{
  "nbformat": 4,
  "nbformat_minor": 0,
  "metadata": {
    "colab": {
      "name": "Cópia de Notebook P1 - Programação Dinâmica.ipynb",
      "provenance": [],
      "collapsed_sections": [],
      "include_colab_link": true
    },
    "kernelspec": {
      "name": "python3",
      "display_name": "Python 3"
    },
    "language_info": {
      "name": "python"
    },
    "widgets": {
      "application/vnd.jupyter.widget-state+json": {
        "c544ede0d8fc40da9536932cff2a1477": {
          "model_module": "jupyterlab-plotly",
          "model_name": "FigureModel",
          "model_module_version": "^5.5.0",
          "state": {
            "_config": {
              "plotlyServerURL": "https://plot.ly"
            },
            "_data": [
              {
                "coloraxis": "coloraxis",
                "hovertemplate": "x: %{x}<br>y: %{y}<br>color: %{z}<extra></extra>",
                "name": "0",
                "xaxis": "x",
                "yaxis": "y",
                "z": [
                  [
                    1,
                    0,
                    0,
                    0,
                    0,
                    0,
                    0,
                    0,
                    1,
                    0,
                    1,
                    0,
                    1,
                    0,
                    1,
                    0,
                    0,
                    0,
                    0,
                    0
                  ],
                  [
                    0,
                    0,
                    1,
                    1,
                    0,
                    0,
                    0,
                    0,
                    0,
                    1,
                    1,
                    0,
                    0,
                    0,
                    1,
                    0,
                    1,
                    0,
                    1,
                    0
                  ],
                  [
                    0,
                    0,
                    0,
                    0,
                    0,
                    1,
                    1,
                    0,
                    0,
                    0,
                    0,
                    0,
                    0,
                    0,
                    0,
                    0,
                    0,
                    0,
                    0,
                    2
                  ],
                  [
                    -1,
                    0,
                    0,
                    0,
                    0,
                    0,
                    0,
                    0,
                    0,
                    0,
                    1,
                    0,
                    1,
                    1,
                    0,
                    0,
                    1,
                    1,
                    0,
                    0
                  ],
                  [
                    0,
                    0,
                    0,
                    0,
                    0,
                    0,
                    0,
                    0,
                    1,
                    0,
                    1,
                    1,
                    1,
                    1,
                    0,
                    1,
                    0,
                    1,
                    0,
                    0
                  ]
                ],
                "type": "heatmap",
                "uid": "61d54cf7-84b4-47d6-8a7d-8802a154cd84"
              }
            ],
            "_dom_classes": [],
            "_js2py_layoutDelta": null,
            "_js2py_pointsCallback": null,
            "_js2py_relayout": null,
            "_js2py_restyle": {},
            "_js2py_traceDeltas": null,
            "_js2py_update": {},
            "_last_layout_edit_id": 40,
            "_last_trace_edit_id": 39,
            "_layout": {
              "coloraxis": {
                "cmax": 2,
                "cmin": -2,
                "colorscale": [
                  [
                    0,
                    "#0d0887"
                  ],
                  [
                    0.1111111111111111,
                    "#46039f"
                  ],
                  [
                    0.2222222222222222,
                    "#7201a8"
                  ],
                  [
                    0.3333333333333333,
                    "#9c179e"
                  ],
                  [
                    0.4444444444444444,
                    "#bd3786"
                  ],
                  [
                    0.5555555555555556,
                    "#d8576b"
                  ],
                  [
                    0.6666666666666666,
                    "#ed7953"
                  ],
                  [
                    0.7777777777777778,
                    "#fb9f3a"
                  ],
                  [
                    0.8888888888888888,
                    "#fdca26"
                  ],
                  [
                    1,
                    "#f0f921"
                  ]
                ]
              },
              "margin": {
                "t": 60
              },
              "template": {
                "data": {
                  "barpolar": [
                    {
                      "marker": {
                        "line": {
                          "color": "#E5ECF6",
                          "width": 0.5
                        },
                        "pattern": {
                          "fillmode": "overlay",
                          "size": 10,
                          "solidity": 0.2
                        }
                      },
                      "type": "barpolar"
                    }
                  ],
                  "bar": [
                    {
                      "error_x": {
                        "color": "#2a3f5f"
                      },
                      "error_y": {
                        "color": "#2a3f5f"
                      },
                      "marker": {
                        "line": {
                          "color": "#E5ECF6",
                          "width": 0.5
                        },
                        "pattern": {
                          "fillmode": "overlay",
                          "size": 10,
                          "solidity": 0.2
                        }
                      },
                      "type": "bar"
                    }
                  ],
                  "carpet": [
                    {
                      "aaxis": {
                        "endlinecolor": "#2a3f5f",
                        "gridcolor": "white",
                        "linecolor": "white",
                        "minorgridcolor": "white",
                        "startlinecolor": "#2a3f5f"
                      },
                      "baxis": {
                        "endlinecolor": "#2a3f5f",
                        "gridcolor": "white",
                        "linecolor": "white",
                        "minorgridcolor": "white",
                        "startlinecolor": "#2a3f5f"
                      },
                      "type": "carpet"
                    }
                  ],
                  "choropleth": [
                    {
                      "colorbar": {
                        "outlinewidth": 0,
                        "ticks": ""
                      },
                      "type": "choropleth"
                    }
                  ],
                  "contourcarpet": [
                    {
                      "colorbar": {
                        "outlinewidth": 0,
                        "ticks": ""
                      },
                      "type": "contourcarpet"
                    }
                  ],
                  "contour": [
                    {
                      "colorbar": {
                        "outlinewidth": 0,
                        "ticks": ""
                      },
                      "colorscale": [
                        [
                          0,
                          "#0d0887"
                        ],
                        [
                          0.1111111111111111,
                          "#46039f"
                        ],
                        [
                          0.2222222222222222,
                          "#7201a8"
                        ],
                        [
                          0.3333333333333333,
                          "#9c179e"
                        ],
                        [
                          0.4444444444444444,
                          "#bd3786"
                        ],
                        [
                          0.5555555555555556,
                          "#d8576b"
                        ],
                        [
                          0.6666666666666666,
                          "#ed7953"
                        ],
                        [
                          0.7777777777777778,
                          "#fb9f3a"
                        ],
                        [
                          0.8888888888888888,
                          "#fdca26"
                        ],
                        [
                          1,
                          "#f0f921"
                        ]
                      ],
                      "type": "contour"
                    }
                  ],
                  "heatmapgl": [
                    {
                      "colorbar": {
                        "outlinewidth": 0,
                        "ticks": ""
                      },
                      "colorscale": [
                        [
                          0,
                          "#0d0887"
                        ],
                        [
                          0.1111111111111111,
                          "#46039f"
                        ],
                        [
                          0.2222222222222222,
                          "#7201a8"
                        ],
                        [
                          0.3333333333333333,
                          "#9c179e"
                        ],
                        [
                          0.4444444444444444,
                          "#bd3786"
                        ],
                        [
                          0.5555555555555556,
                          "#d8576b"
                        ],
                        [
                          0.6666666666666666,
                          "#ed7953"
                        ],
                        [
                          0.7777777777777778,
                          "#fb9f3a"
                        ],
                        [
                          0.8888888888888888,
                          "#fdca26"
                        ],
                        [
                          1,
                          "#f0f921"
                        ]
                      ],
                      "type": "heatmapgl"
                    }
                  ],
                  "heatmap": [
                    {
                      "colorbar": {
                        "outlinewidth": 0,
                        "ticks": ""
                      },
                      "colorscale": [
                        [
                          0,
                          "#0d0887"
                        ],
                        [
                          0.1111111111111111,
                          "#46039f"
                        ],
                        [
                          0.2222222222222222,
                          "#7201a8"
                        ],
                        [
                          0.3333333333333333,
                          "#9c179e"
                        ],
                        [
                          0.4444444444444444,
                          "#bd3786"
                        ],
                        [
                          0.5555555555555556,
                          "#d8576b"
                        ],
                        [
                          0.6666666666666666,
                          "#ed7953"
                        ],
                        [
                          0.7777777777777778,
                          "#fb9f3a"
                        ],
                        [
                          0.8888888888888888,
                          "#fdca26"
                        ],
                        [
                          1,
                          "#f0f921"
                        ]
                      ],
                      "type": "heatmap"
                    }
                  ],
                  "histogram2dcontour": [
                    {
                      "colorbar": {
                        "outlinewidth": 0,
                        "ticks": ""
                      },
                      "colorscale": [
                        [
                          0,
                          "#0d0887"
                        ],
                        [
                          0.1111111111111111,
                          "#46039f"
                        ],
                        [
                          0.2222222222222222,
                          "#7201a8"
                        ],
                        [
                          0.3333333333333333,
                          "#9c179e"
                        ],
                        [
                          0.4444444444444444,
                          "#bd3786"
                        ],
                        [
                          0.5555555555555556,
                          "#d8576b"
                        ],
                        [
                          0.6666666666666666,
                          "#ed7953"
                        ],
                        [
                          0.7777777777777778,
                          "#fb9f3a"
                        ],
                        [
                          0.8888888888888888,
                          "#fdca26"
                        ],
                        [
                          1,
                          "#f0f921"
                        ]
                      ],
                      "type": "histogram2dcontour"
                    }
                  ],
                  "histogram2d": [
                    {
                      "colorbar": {
                        "outlinewidth": 0,
                        "ticks": ""
                      },
                      "colorscale": [
                        [
                          0,
                          "#0d0887"
                        ],
                        [
                          0.1111111111111111,
                          "#46039f"
                        ],
                        [
                          0.2222222222222222,
                          "#7201a8"
                        ],
                        [
                          0.3333333333333333,
                          "#9c179e"
                        ],
                        [
                          0.4444444444444444,
                          "#bd3786"
                        ],
                        [
                          0.5555555555555556,
                          "#d8576b"
                        ],
                        [
                          0.6666666666666666,
                          "#ed7953"
                        ],
                        [
                          0.7777777777777778,
                          "#fb9f3a"
                        ],
                        [
                          0.8888888888888888,
                          "#fdca26"
                        ],
                        [
                          1,
                          "#f0f921"
                        ]
                      ],
                      "type": "histogram2d"
                    }
                  ],
                  "histogram": [
                    {
                      "marker": {
                        "pattern": {
                          "fillmode": "overlay",
                          "size": 10,
                          "solidity": 0.2
                        }
                      },
                      "type": "histogram"
                    }
                  ],
                  "mesh3d": [
                    {
                      "colorbar": {
                        "outlinewidth": 0,
                        "ticks": ""
                      },
                      "type": "mesh3d"
                    }
                  ],
                  "parcoords": [
                    {
                      "line": {
                        "colorbar": {
                          "outlinewidth": 0,
                          "ticks": ""
                        }
                      },
                      "type": "parcoords"
                    }
                  ],
                  "pie": [
                    {
                      "automargin": true,
                      "type": "pie"
                    }
                  ],
                  "scatter3d": [
                    {
                      "line": {
                        "colorbar": {
                          "outlinewidth": 0,
                          "ticks": ""
                        }
                      },
                      "marker": {
                        "colorbar": {
                          "outlinewidth": 0,
                          "ticks": ""
                        }
                      },
                      "type": "scatter3d"
                    }
                  ],
                  "scattercarpet": [
                    {
                      "marker": {
                        "colorbar": {
                          "outlinewidth": 0,
                          "ticks": ""
                        }
                      },
                      "type": "scattercarpet"
                    }
                  ],
                  "scattergeo": [
                    {
                      "marker": {
                        "colorbar": {
                          "outlinewidth": 0,
                          "ticks": ""
                        }
                      },
                      "type": "scattergeo"
                    }
                  ],
                  "scattergl": [
                    {
                      "marker": {
                        "colorbar": {
                          "outlinewidth": 0,
                          "ticks": ""
                        }
                      },
                      "type": "scattergl"
                    }
                  ],
                  "scattermapbox": [
                    {
                      "marker": {
                        "colorbar": {
                          "outlinewidth": 0,
                          "ticks": ""
                        }
                      },
                      "type": "scattermapbox"
                    }
                  ],
                  "scatterpolargl": [
                    {
                      "marker": {
                        "colorbar": {
                          "outlinewidth": 0,
                          "ticks": ""
                        }
                      },
                      "type": "scatterpolargl"
                    }
                  ],
                  "scatterpolar": [
                    {
                      "marker": {
                        "colorbar": {
                          "outlinewidth": 0,
                          "ticks": ""
                        }
                      },
                      "type": "scatterpolar"
                    }
                  ],
                  "scatter": [
                    {
                      "marker": {
                        "colorbar": {
                          "outlinewidth": 0,
                          "ticks": ""
                        }
                      },
                      "type": "scatter"
                    }
                  ],
                  "scatterternary": [
                    {
                      "marker": {
                        "colorbar": {
                          "outlinewidth": 0,
                          "ticks": ""
                        }
                      },
                      "type": "scatterternary"
                    }
                  ],
                  "surface": [
                    {
                      "colorbar": {
                        "outlinewidth": 0,
                        "ticks": ""
                      },
                      "colorscale": [
                        [
                          0,
                          "#0d0887"
                        ],
                        [
                          0.1111111111111111,
                          "#46039f"
                        ],
                        [
                          0.2222222222222222,
                          "#7201a8"
                        ],
                        [
                          0.3333333333333333,
                          "#9c179e"
                        ],
                        [
                          0.4444444444444444,
                          "#bd3786"
                        ],
                        [
                          0.5555555555555556,
                          "#d8576b"
                        ],
                        [
                          0.6666666666666666,
                          "#ed7953"
                        ],
                        [
                          0.7777777777777778,
                          "#fb9f3a"
                        ],
                        [
                          0.8888888888888888,
                          "#fdca26"
                        ],
                        [
                          1,
                          "#f0f921"
                        ]
                      ],
                      "type": "surface"
                    }
                  ],
                  "table": [
                    {
                      "cells": {
                        "fill": {
                          "color": "#EBF0F8"
                        },
                        "line": {
                          "color": "white"
                        }
                      },
                      "header": {
                        "fill": {
                          "color": "#C8D4E3"
                        },
                        "line": {
                          "color": "white"
                        }
                      },
                      "type": "table"
                    }
                  ]
                },
                "layout": {
                  "annotationdefaults": {
                    "arrowcolor": "#2a3f5f",
                    "arrowhead": 0,
                    "arrowwidth": 1
                  },
                  "autotypenumbers": "strict",
                  "coloraxis": {
                    "colorbar": {
                      "outlinewidth": 0,
                      "ticks": ""
                    }
                  },
                  "colorscale": {
                    "diverging": [
                      [
                        0,
                        "#8e0152"
                      ],
                      [
                        0.1,
                        "#c51b7d"
                      ],
                      [
                        0.2,
                        "#de77ae"
                      ],
                      [
                        0.3,
                        "#f1b6da"
                      ],
                      [
                        0.4,
                        "#fde0ef"
                      ],
                      [
                        0.5,
                        "#f7f7f7"
                      ],
                      [
                        0.6,
                        "#e6f5d0"
                      ],
                      [
                        0.7,
                        "#b8e186"
                      ],
                      [
                        0.8,
                        "#7fbc41"
                      ],
                      [
                        0.9,
                        "#4d9221"
                      ],
                      [
                        1,
                        "#276419"
                      ]
                    ],
                    "sequential": [
                      [
                        0,
                        "#0d0887"
                      ],
                      [
                        0.1111111111111111,
                        "#46039f"
                      ],
                      [
                        0.2222222222222222,
                        "#7201a8"
                      ],
                      [
                        0.3333333333333333,
                        "#9c179e"
                      ],
                      [
                        0.4444444444444444,
                        "#bd3786"
                      ],
                      [
                        0.5555555555555556,
                        "#d8576b"
                      ],
                      [
                        0.6666666666666666,
                        "#ed7953"
                      ],
                      [
                        0.7777777777777778,
                        "#fb9f3a"
                      ],
                      [
                        0.8888888888888888,
                        "#fdca26"
                      ],
                      [
                        1,
                        "#f0f921"
                      ]
                    ],
                    "sequentialminus": [
                      [
                        0,
                        "#0d0887"
                      ],
                      [
                        0.1111111111111111,
                        "#46039f"
                      ],
                      [
                        0.2222222222222222,
                        "#7201a8"
                      ],
                      [
                        0.3333333333333333,
                        "#9c179e"
                      ],
                      [
                        0.4444444444444444,
                        "#bd3786"
                      ],
                      [
                        0.5555555555555556,
                        "#d8576b"
                      ],
                      [
                        0.6666666666666666,
                        "#ed7953"
                      ],
                      [
                        0.7777777777777778,
                        "#fb9f3a"
                      ],
                      [
                        0.8888888888888888,
                        "#fdca26"
                      ],
                      [
                        1,
                        "#f0f921"
                      ]
                    ]
                  },
                  "colorway": [
                    "#636efa",
                    "#EF553B",
                    "#00cc96",
                    "#ab63fa",
                    "#FFA15A",
                    "#19d3f3",
                    "#FF6692",
                    "#B6E880",
                    "#FF97FF",
                    "#FECB52"
                  ],
                  "font": {
                    "color": "#2a3f5f"
                  },
                  "geo": {
                    "bgcolor": "white",
                    "lakecolor": "white",
                    "landcolor": "#E5ECF6",
                    "showlakes": true,
                    "showland": true,
                    "subunitcolor": "white"
                  },
                  "hoverlabel": {
                    "align": "left"
                  },
                  "hovermode": "closest",
                  "mapbox": {
                    "style": "light"
                  },
                  "paper_bgcolor": "white",
                  "plot_bgcolor": "#E5ECF6",
                  "polar": {
                    "angularaxis": {
                      "gridcolor": "white",
                      "linecolor": "white",
                      "ticks": ""
                    },
                    "bgcolor": "#E5ECF6",
                    "radialaxis": {
                      "gridcolor": "white",
                      "linecolor": "white",
                      "ticks": ""
                    }
                  },
                  "scene": {
                    "xaxis": {
                      "backgroundcolor": "#E5ECF6",
                      "gridcolor": "white",
                      "gridwidth": 2,
                      "linecolor": "white",
                      "showbackground": true,
                      "ticks": "",
                      "zerolinecolor": "white"
                    },
                    "yaxis": {
                      "backgroundcolor": "#E5ECF6",
                      "gridcolor": "white",
                      "gridwidth": 2,
                      "linecolor": "white",
                      "showbackground": true,
                      "ticks": "",
                      "zerolinecolor": "white"
                    },
                    "zaxis": {
                      "backgroundcolor": "#E5ECF6",
                      "gridcolor": "white",
                      "gridwidth": 2,
                      "linecolor": "white",
                      "showbackground": true,
                      "ticks": "",
                      "zerolinecolor": "white"
                    }
                  },
                  "shapedefaults": {
                    "line": {
                      "color": "#2a3f5f"
                    }
                  },
                  "ternary": {
                    "aaxis": {
                      "gridcolor": "white",
                      "linecolor": "white",
                      "ticks": ""
                    },
                    "baxis": {
                      "gridcolor": "white",
                      "linecolor": "white",
                      "ticks": ""
                    },
                    "bgcolor": "#E5ECF6",
                    "caxis": {
                      "gridcolor": "white",
                      "linecolor": "white",
                      "ticks": ""
                    }
                  },
                  "title": {
                    "x": 0.05
                  },
                  "xaxis": {
                    "automargin": true,
                    "gridcolor": "white",
                    "linecolor": "white",
                    "ticks": "",
                    "title": {
                      "standoff": 15
                    },
                    "zerolinecolor": "white",
                    "zerolinewidth": 2
                  },
                  "yaxis": {
                    "automargin": true,
                    "gridcolor": "white",
                    "linecolor": "white",
                    "ticks": "",
                    "title": {
                      "standoff": 15
                    },
                    "zerolinecolor": "white",
                    "zerolinewidth": 2
                  }
                }
              },
              "xaxis": {
                "anchor": "y",
                "constrain": "domain",
                "domain": [
                  0,
                  1
                ],
                "scaleanchor": "y"
              },
              "yaxis": {
                "anchor": "x",
                "autorange": "reversed",
                "constrain": "domain",
                "domain": [
                  0,
                  1
                ]
              }
            },
            "_model_module": "jupyterlab-plotly",
            "_model_module_version": "^5.5.0",
            "_model_name": "FigureModel",
            "_py2js_addTraces": {},
            "_py2js_animate": {},
            "_py2js_deleteTraces": {},
            "_py2js_moveTraces": {},
            "_py2js_relayout": null,
            "_py2js_removeLayoutProps": null,
            "_py2js_removeTraceProps": {},
            "_py2js_restyle": null,
            "_py2js_update": {},
            "_view_count": 1,
            "_view_module": "jupyterlab-plotly",
            "_view_module_version": "^5.5.0",
            "_view_name": "FigureView"
          }
        },
        "5aa370841f0b416e89fdfea51cfd3320": {
          "model_module": "jupyterlab-plotly",
          "model_name": "FigureModel",
          "model_module_version": "^5.5.0",
          "state": {
            "_config": {
              "plotlyServerURL": "https://plot.ly"
            },
            "_data": [
              {
                "coloraxis": "coloraxis",
                "hovertemplate": "x: %{x}<br>y: %{y}<br>color: %{z}<extra></extra>",
                "name": "0",
                "xaxis": "x",
                "yaxis": "y",
                "z": [
                  [
                    1,
                    1,
                    0,
                    0,
                    1,
                    0,
                    0,
                    0,
                    1,
                    0,
                    1,
                    0,
                    0,
                    1,
                    1,
                    0,
                    0,
                    0,
                    0,
                    0
                  ],
                  [
                    1,
                    0,
                    1,
                    1,
                    0,
                    0,
                    0,
                    0,
                    0,
                    0,
                    1,
                    0,
                    0,
                    0,
                    1,
                    0,
                    0,
                    0,
                    0,
                    0
                  ],
                  [
                    0,
                    1,
                    0,
                    0,
                    0,
                    1,
                    0,
                    1,
                    0,
                    0,
                    0,
                    0,
                    0,
                    0,
                    0,
                    0,
                    0,
                    0,
                    0,
                    2
                  ],
                  [
                    -1,
                    1,
                    0,
                    0,
                    0,
                    0,
                    0,
                    0,
                    0,
                    0,
                    1,
                    0,
                    0,
                    0,
                    0,
                    0,
                    1,
                    1,
                    0,
                    0
                  ],
                  [
                    0,
                    0,
                    1,
                    0,
                    0,
                    0,
                    0,
                    0,
                    0,
                    0,
                    1,
                    1,
                    0,
                    1,
                    1,
                    1,
                    0,
                    1,
                    0,
                    0
                  ]
                ],
                "type": "heatmap",
                "uid": "ff7c764c-b28f-4473-b131-5b51a7b6aabe"
              }
            ],
            "_dom_classes": [],
            "_js2py_layoutDelta": null,
            "_js2py_pointsCallback": null,
            "_js2py_relayout": null,
            "_js2py_restyle": {},
            "_js2py_traceDeltas": null,
            "_js2py_update": {},
            "_last_layout_edit_id": 21,
            "_last_trace_edit_id": 20,
            "_layout": {
              "coloraxis": {
                "cmax": 2,
                "cmin": -2,
                "colorscale": [
                  [
                    0,
                    "#0d0887"
                  ],
                  [
                    0.1111111111111111,
                    "#46039f"
                  ],
                  [
                    0.2222222222222222,
                    "#7201a8"
                  ],
                  [
                    0.3333333333333333,
                    "#9c179e"
                  ],
                  [
                    0.4444444444444444,
                    "#bd3786"
                  ],
                  [
                    0.5555555555555556,
                    "#d8576b"
                  ],
                  [
                    0.6666666666666666,
                    "#ed7953"
                  ],
                  [
                    0.7777777777777778,
                    "#fb9f3a"
                  ],
                  [
                    0.8888888888888888,
                    "#fdca26"
                  ],
                  [
                    1,
                    "#f0f921"
                  ]
                ]
              },
              "margin": {
                "t": 60
              },
              "template": {
                "data": {
                  "barpolar": [
                    {
                      "marker": {
                        "line": {
                          "color": "#E5ECF6",
                          "width": 0.5
                        },
                        "pattern": {
                          "fillmode": "overlay",
                          "size": 10,
                          "solidity": 0.2
                        }
                      },
                      "type": "barpolar"
                    }
                  ],
                  "bar": [
                    {
                      "error_x": {
                        "color": "#2a3f5f"
                      },
                      "error_y": {
                        "color": "#2a3f5f"
                      },
                      "marker": {
                        "line": {
                          "color": "#E5ECF6",
                          "width": 0.5
                        },
                        "pattern": {
                          "fillmode": "overlay",
                          "size": 10,
                          "solidity": 0.2
                        }
                      },
                      "type": "bar"
                    }
                  ],
                  "carpet": [
                    {
                      "aaxis": {
                        "endlinecolor": "#2a3f5f",
                        "gridcolor": "white",
                        "linecolor": "white",
                        "minorgridcolor": "white",
                        "startlinecolor": "#2a3f5f"
                      },
                      "baxis": {
                        "endlinecolor": "#2a3f5f",
                        "gridcolor": "white",
                        "linecolor": "white",
                        "minorgridcolor": "white",
                        "startlinecolor": "#2a3f5f"
                      },
                      "type": "carpet"
                    }
                  ],
                  "choropleth": [
                    {
                      "colorbar": {
                        "outlinewidth": 0,
                        "ticks": ""
                      },
                      "type": "choropleth"
                    }
                  ],
                  "contourcarpet": [
                    {
                      "colorbar": {
                        "outlinewidth": 0,
                        "ticks": ""
                      },
                      "type": "contourcarpet"
                    }
                  ],
                  "contour": [
                    {
                      "colorbar": {
                        "outlinewidth": 0,
                        "ticks": ""
                      },
                      "colorscale": [
                        [
                          0,
                          "#0d0887"
                        ],
                        [
                          0.1111111111111111,
                          "#46039f"
                        ],
                        [
                          0.2222222222222222,
                          "#7201a8"
                        ],
                        [
                          0.3333333333333333,
                          "#9c179e"
                        ],
                        [
                          0.4444444444444444,
                          "#bd3786"
                        ],
                        [
                          0.5555555555555556,
                          "#d8576b"
                        ],
                        [
                          0.6666666666666666,
                          "#ed7953"
                        ],
                        [
                          0.7777777777777778,
                          "#fb9f3a"
                        ],
                        [
                          0.8888888888888888,
                          "#fdca26"
                        ],
                        [
                          1,
                          "#f0f921"
                        ]
                      ],
                      "type": "contour"
                    }
                  ],
                  "heatmapgl": [
                    {
                      "colorbar": {
                        "outlinewidth": 0,
                        "ticks": ""
                      },
                      "colorscale": [
                        [
                          0,
                          "#0d0887"
                        ],
                        [
                          0.1111111111111111,
                          "#46039f"
                        ],
                        [
                          0.2222222222222222,
                          "#7201a8"
                        ],
                        [
                          0.3333333333333333,
                          "#9c179e"
                        ],
                        [
                          0.4444444444444444,
                          "#bd3786"
                        ],
                        [
                          0.5555555555555556,
                          "#d8576b"
                        ],
                        [
                          0.6666666666666666,
                          "#ed7953"
                        ],
                        [
                          0.7777777777777778,
                          "#fb9f3a"
                        ],
                        [
                          0.8888888888888888,
                          "#fdca26"
                        ],
                        [
                          1,
                          "#f0f921"
                        ]
                      ],
                      "type": "heatmapgl"
                    }
                  ],
                  "heatmap": [
                    {
                      "colorbar": {
                        "outlinewidth": 0,
                        "ticks": ""
                      },
                      "colorscale": [
                        [
                          0,
                          "#0d0887"
                        ],
                        [
                          0.1111111111111111,
                          "#46039f"
                        ],
                        [
                          0.2222222222222222,
                          "#7201a8"
                        ],
                        [
                          0.3333333333333333,
                          "#9c179e"
                        ],
                        [
                          0.4444444444444444,
                          "#bd3786"
                        ],
                        [
                          0.5555555555555556,
                          "#d8576b"
                        ],
                        [
                          0.6666666666666666,
                          "#ed7953"
                        ],
                        [
                          0.7777777777777778,
                          "#fb9f3a"
                        ],
                        [
                          0.8888888888888888,
                          "#fdca26"
                        ],
                        [
                          1,
                          "#f0f921"
                        ]
                      ],
                      "type": "heatmap"
                    }
                  ],
                  "histogram2dcontour": [
                    {
                      "colorbar": {
                        "outlinewidth": 0,
                        "ticks": ""
                      },
                      "colorscale": [
                        [
                          0,
                          "#0d0887"
                        ],
                        [
                          0.1111111111111111,
                          "#46039f"
                        ],
                        [
                          0.2222222222222222,
                          "#7201a8"
                        ],
                        [
                          0.3333333333333333,
                          "#9c179e"
                        ],
                        [
                          0.4444444444444444,
                          "#bd3786"
                        ],
                        [
                          0.5555555555555556,
                          "#d8576b"
                        ],
                        [
                          0.6666666666666666,
                          "#ed7953"
                        ],
                        [
                          0.7777777777777778,
                          "#fb9f3a"
                        ],
                        [
                          0.8888888888888888,
                          "#fdca26"
                        ],
                        [
                          1,
                          "#f0f921"
                        ]
                      ],
                      "type": "histogram2dcontour"
                    }
                  ],
                  "histogram2d": [
                    {
                      "colorbar": {
                        "outlinewidth": 0,
                        "ticks": ""
                      },
                      "colorscale": [
                        [
                          0,
                          "#0d0887"
                        ],
                        [
                          0.1111111111111111,
                          "#46039f"
                        ],
                        [
                          0.2222222222222222,
                          "#7201a8"
                        ],
                        [
                          0.3333333333333333,
                          "#9c179e"
                        ],
                        [
                          0.4444444444444444,
                          "#bd3786"
                        ],
                        [
                          0.5555555555555556,
                          "#d8576b"
                        ],
                        [
                          0.6666666666666666,
                          "#ed7953"
                        ],
                        [
                          0.7777777777777778,
                          "#fb9f3a"
                        ],
                        [
                          0.8888888888888888,
                          "#fdca26"
                        ],
                        [
                          1,
                          "#f0f921"
                        ]
                      ],
                      "type": "histogram2d"
                    }
                  ],
                  "histogram": [
                    {
                      "marker": {
                        "pattern": {
                          "fillmode": "overlay",
                          "size": 10,
                          "solidity": 0.2
                        }
                      },
                      "type": "histogram"
                    }
                  ],
                  "mesh3d": [
                    {
                      "colorbar": {
                        "outlinewidth": 0,
                        "ticks": ""
                      },
                      "type": "mesh3d"
                    }
                  ],
                  "parcoords": [
                    {
                      "line": {
                        "colorbar": {
                          "outlinewidth": 0,
                          "ticks": ""
                        }
                      },
                      "type": "parcoords"
                    }
                  ],
                  "pie": [
                    {
                      "automargin": true,
                      "type": "pie"
                    }
                  ],
                  "scatter3d": [
                    {
                      "line": {
                        "colorbar": {
                          "outlinewidth": 0,
                          "ticks": ""
                        }
                      },
                      "marker": {
                        "colorbar": {
                          "outlinewidth": 0,
                          "ticks": ""
                        }
                      },
                      "type": "scatter3d"
                    }
                  ],
                  "scattercarpet": [
                    {
                      "marker": {
                        "colorbar": {
                          "outlinewidth": 0,
                          "ticks": ""
                        }
                      },
                      "type": "scattercarpet"
                    }
                  ],
                  "scattergeo": [
                    {
                      "marker": {
                        "colorbar": {
                          "outlinewidth": 0,
                          "ticks": ""
                        }
                      },
                      "type": "scattergeo"
                    }
                  ],
                  "scattergl": [
                    {
                      "marker": {
                        "colorbar": {
                          "outlinewidth": 0,
                          "ticks": ""
                        }
                      },
                      "type": "scattergl"
                    }
                  ],
                  "scattermapbox": [
                    {
                      "marker": {
                        "colorbar": {
                          "outlinewidth": 0,
                          "ticks": ""
                        }
                      },
                      "type": "scattermapbox"
                    }
                  ],
                  "scatterpolargl": [
                    {
                      "marker": {
                        "colorbar": {
                          "outlinewidth": 0,
                          "ticks": ""
                        }
                      },
                      "type": "scatterpolargl"
                    }
                  ],
                  "scatterpolar": [
                    {
                      "marker": {
                        "colorbar": {
                          "outlinewidth": 0,
                          "ticks": ""
                        }
                      },
                      "type": "scatterpolar"
                    }
                  ],
                  "scatter": [
                    {
                      "marker": {
                        "colorbar": {
                          "outlinewidth": 0,
                          "ticks": ""
                        }
                      },
                      "type": "scatter"
                    }
                  ],
                  "scatterternary": [
                    {
                      "marker": {
                        "colorbar": {
                          "outlinewidth": 0,
                          "ticks": ""
                        }
                      },
                      "type": "scatterternary"
                    }
                  ],
                  "surface": [
                    {
                      "colorbar": {
                        "outlinewidth": 0,
                        "ticks": ""
                      },
                      "colorscale": [
                        [
                          0,
                          "#0d0887"
                        ],
                        [
                          0.1111111111111111,
                          "#46039f"
                        ],
                        [
                          0.2222222222222222,
                          "#7201a8"
                        ],
                        [
                          0.3333333333333333,
                          "#9c179e"
                        ],
                        [
                          0.4444444444444444,
                          "#bd3786"
                        ],
                        [
                          0.5555555555555556,
                          "#d8576b"
                        ],
                        [
                          0.6666666666666666,
                          "#ed7953"
                        ],
                        [
                          0.7777777777777778,
                          "#fb9f3a"
                        ],
                        [
                          0.8888888888888888,
                          "#fdca26"
                        ],
                        [
                          1,
                          "#f0f921"
                        ]
                      ],
                      "type": "surface"
                    }
                  ],
                  "table": [
                    {
                      "cells": {
                        "fill": {
                          "color": "#EBF0F8"
                        },
                        "line": {
                          "color": "white"
                        }
                      },
                      "header": {
                        "fill": {
                          "color": "#C8D4E3"
                        },
                        "line": {
                          "color": "white"
                        }
                      },
                      "type": "table"
                    }
                  ]
                },
                "layout": {
                  "annotationdefaults": {
                    "arrowcolor": "#2a3f5f",
                    "arrowhead": 0,
                    "arrowwidth": 1
                  },
                  "autotypenumbers": "strict",
                  "coloraxis": {
                    "colorbar": {
                      "outlinewidth": 0,
                      "ticks": ""
                    }
                  },
                  "colorscale": {
                    "diverging": [
                      [
                        0,
                        "#8e0152"
                      ],
                      [
                        0.1,
                        "#c51b7d"
                      ],
                      [
                        0.2,
                        "#de77ae"
                      ],
                      [
                        0.3,
                        "#f1b6da"
                      ],
                      [
                        0.4,
                        "#fde0ef"
                      ],
                      [
                        0.5,
                        "#f7f7f7"
                      ],
                      [
                        0.6,
                        "#e6f5d0"
                      ],
                      [
                        0.7,
                        "#b8e186"
                      ],
                      [
                        0.8,
                        "#7fbc41"
                      ],
                      [
                        0.9,
                        "#4d9221"
                      ],
                      [
                        1,
                        "#276419"
                      ]
                    ],
                    "sequential": [
                      [
                        0,
                        "#0d0887"
                      ],
                      [
                        0.1111111111111111,
                        "#46039f"
                      ],
                      [
                        0.2222222222222222,
                        "#7201a8"
                      ],
                      [
                        0.3333333333333333,
                        "#9c179e"
                      ],
                      [
                        0.4444444444444444,
                        "#bd3786"
                      ],
                      [
                        0.5555555555555556,
                        "#d8576b"
                      ],
                      [
                        0.6666666666666666,
                        "#ed7953"
                      ],
                      [
                        0.7777777777777778,
                        "#fb9f3a"
                      ],
                      [
                        0.8888888888888888,
                        "#fdca26"
                      ],
                      [
                        1,
                        "#f0f921"
                      ]
                    ],
                    "sequentialminus": [
                      [
                        0,
                        "#0d0887"
                      ],
                      [
                        0.1111111111111111,
                        "#46039f"
                      ],
                      [
                        0.2222222222222222,
                        "#7201a8"
                      ],
                      [
                        0.3333333333333333,
                        "#9c179e"
                      ],
                      [
                        0.4444444444444444,
                        "#bd3786"
                      ],
                      [
                        0.5555555555555556,
                        "#d8576b"
                      ],
                      [
                        0.6666666666666666,
                        "#ed7953"
                      ],
                      [
                        0.7777777777777778,
                        "#fb9f3a"
                      ],
                      [
                        0.8888888888888888,
                        "#fdca26"
                      ],
                      [
                        1,
                        "#f0f921"
                      ]
                    ]
                  },
                  "colorway": [
                    "#636efa",
                    "#EF553B",
                    "#00cc96",
                    "#ab63fa",
                    "#FFA15A",
                    "#19d3f3",
                    "#FF6692",
                    "#B6E880",
                    "#FF97FF",
                    "#FECB52"
                  ],
                  "font": {
                    "color": "#2a3f5f"
                  },
                  "geo": {
                    "bgcolor": "white",
                    "lakecolor": "white",
                    "landcolor": "#E5ECF6",
                    "showlakes": true,
                    "showland": true,
                    "subunitcolor": "white"
                  },
                  "hoverlabel": {
                    "align": "left"
                  },
                  "hovermode": "closest",
                  "mapbox": {
                    "style": "light"
                  },
                  "paper_bgcolor": "white",
                  "plot_bgcolor": "#E5ECF6",
                  "polar": {
                    "angularaxis": {
                      "gridcolor": "white",
                      "linecolor": "white",
                      "ticks": ""
                    },
                    "bgcolor": "#E5ECF6",
                    "radialaxis": {
                      "gridcolor": "white",
                      "linecolor": "white",
                      "ticks": ""
                    }
                  },
                  "scene": {
                    "xaxis": {
                      "backgroundcolor": "#E5ECF6",
                      "gridcolor": "white",
                      "gridwidth": 2,
                      "linecolor": "white",
                      "showbackground": true,
                      "ticks": "",
                      "zerolinecolor": "white"
                    },
                    "yaxis": {
                      "backgroundcolor": "#E5ECF6",
                      "gridcolor": "white",
                      "gridwidth": 2,
                      "linecolor": "white",
                      "showbackground": true,
                      "ticks": "",
                      "zerolinecolor": "white"
                    },
                    "zaxis": {
                      "backgroundcolor": "#E5ECF6",
                      "gridcolor": "white",
                      "gridwidth": 2,
                      "linecolor": "white",
                      "showbackground": true,
                      "ticks": "",
                      "zerolinecolor": "white"
                    }
                  },
                  "shapedefaults": {
                    "line": {
                      "color": "#2a3f5f"
                    }
                  },
                  "ternary": {
                    "aaxis": {
                      "gridcolor": "white",
                      "linecolor": "white",
                      "ticks": ""
                    },
                    "baxis": {
                      "gridcolor": "white",
                      "linecolor": "white",
                      "ticks": ""
                    },
                    "bgcolor": "#E5ECF6",
                    "caxis": {
                      "gridcolor": "white",
                      "linecolor": "white",
                      "ticks": ""
                    }
                  },
                  "title": {
                    "x": 0.05
                  },
                  "xaxis": {
                    "automargin": true,
                    "gridcolor": "white",
                    "linecolor": "white",
                    "ticks": "",
                    "title": {
                      "standoff": 15
                    },
                    "zerolinecolor": "white",
                    "zerolinewidth": 2
                  },
                  "yaxis": {
                    "automargin": true,
                    "gridcolor": "white",
                    "linecolor": "white",
                    "ticks": "",
                    "title": {
                      "standoff": 15
                    },
                    "zerolinecolor": "white",
                    "zerolinewidth": 2
                  }
                }
              },
              "xaxis": {
                "anchor": "y",
                "constrain": "domain",
                "domain": [
                  0,
                  1
                ],
                "scaleanchor": "y"
              },
              "yaxis": {
                "anchor": "x",
                "autorange": "reversed",
                "constrain": "domain",
                "domain": [
                  0,
                  1
                ]
              }
            },
            "_model_module": "jupyterlab-plotly",
            "_model_module_version": "^5.5.0",
            "_model_name": "FigureModel",
            "_py2js_addTraces": {},
            "_py2js_animate": {},
            "_py2js_deleteTraces": {},
            "_py2js_moveTraces": {},
            "_py2js_relayout": null,
            "_py2js_removeLayoutProps": null,
            "_py2js_removeTraceProps": {},
            "_py2js_restyle": null,
            "_py2js_update": {},
            "_view_count": 1,
            "_view_module": "jupyterlab-plotly",
            "_view_module_version": "^5.5.0",
            "_view_name": "FigureView"
          }
        },
        "24a3f2ae36d742f7ae17ba12a6b84f23": {
          "model_module": "jupyterlab-plotly",
          "model_name": "FigureModel",
          "model_module_version": "^5.5.0",
          "state": {
            "_config": {
              "plotlyServerURL": "https://plot.ly"
            },
            "_data": [
              {
                "coloraxis": "coloraxis",
                "hovertemplate": "x: %{x}<br>y: %{y}<br>color: %{z}<extra></extra>",
                "name": "0",
                "xaxis": "x",
                "yaxis": "y",
                "z": [
                  [
                    1,
                    0,
                    0,
                    0,
                    0,
                    0,
                    0,
                    0,
                    1,
                    0,
                    1,
                    0,
                    1,
                    0,
                    1,
                    0,
                    0,
                    0,
                    0,
                    0
                  ],
                  [
                    0,
                    0,
                    1,
                    1,
                    0,
                    0,
                    2,
                    0,
                    0,
                    1,
                    1,
                    0,
                    0,
                    0,
                    1,
                    0,
                    1,
                    0,
                    1,
                    0
                  ],
                  [
                    0,
                    0,
                    0,
                    0,
                    0,
                    1,
                    1,
                    0,
                    0,
                    0,
                    0,
                    0,
                    0,
                    0,
                    0,
                    0,
                    0,
                    0,
                    0,
                    0
                  ],
                  [
                    -1,
                    0,
                    0,
                    0,
                    0,
                    0,
                    0,
                    0,
                    0,
                    0,
                    1,
                    0,
                    1,
                    1,
                    0,
                    0,
                    1,
                    1,
                    0,
                    0
                  ],
                  [
                    0,
                    0,
                    0,
                    0,
                    0,
                    0,
                    0,
                    0,
                    1,
                    0,
                    1,
                    1,
                    1,
                    1,
                    0,
                    1,
                    0,
                    1,
                    0,
                    0
                  ]
                ],
                "type": "heatmap",
                "uid": "432b30ed-389e-4a12-8ce4-694bf0cfe646"
              }
            ],
            "_dom_classes": [],
            "_js2py_layoutDelta": null,
            "_js2py_pointsCallback": null,
            "_js2py_relayout": null,
            "_js2py_restyle": {},
            "_js2py_traceDeltas": null,
            "_js2py_update": {},
            "_last_layout_edit_id": 7,
            "_last_trace_edit_id": 6,
            "_layout": {
              "coloraxis": {
                "cmax": 2,
                "cmin": -2,
                "colorscale": [
                  [
                    0,
                    "#0d0887"
                  ],
                  [
                    0.1111111111111111,
                    "#46039f"
                  ],
                  [
                    0.2222222222222222,
                    "#7201a8"
                  ],
                  [
                    0.3333333333333333,
                    "#9c179e"
                  ],
                  [
                    0.4444444444444444,
                    "#bd3786"
                  ],
                  [
                    0.5555555555555556,
                    "#d8576b"
                  ],
                  [
                    0.6666666666666666,
                    "#ed7953"
                  ],
                  [
                    0.7777777777777778,
                    "#fb9f3a"
                  ],
                  [
                    0.8888888888888888,
                    "#fdca26"
                  ],
                  [
                    1,
                    "#f0f921"
                  ]
                ]
              },
              "margin": {
                "t": 60
              },
              "template": {
                "data": {
                  "barpolar": [
                    {
                      "marker": {
                        "line": {
                          "color": "#E5ECF6",
                          "width": 0.5
                        },
                        "pattern": {
                          "fillmode": "overlay",
                          "size": 10,
                          "solidity": 0.2
                        }
                      },
                      "type": "barpolar"
                    }
                  ],
                  "bar": [
                    {
                      "error_x": {
                        "color": "#2a3f5f"
                      },
                      "error_y": {
                        "color": "#2a3f5f"
                      },
                      "marker": {
                        "line": {
                          "color": "#E5ECF6",
                          "width": 0.5
                        },
                        "pattern": {
                          "fillmode": "overlay",
                          "size": 10,
                          "solidity": 0.2
                        }
                      },
                      "type": "bar"
                    }
                  ],
                  "carpet": [
                    {
                      "aaxis": {
                        "endlinecolor": "#2a3f5f",
                        "gridcolor": "white",
                        "linecolor": "white",
                        "minorgridcolor": "white",
                        "startlinecolor": "#2a3f5f"
                      },
                      "baxis": {
                        "endlinecolor": "#2a3f5f",
                        "gridcolor": "white",
                        "linecolor": "white",
                        "minorgridcolor": "white",
                        "startlinecolor": "#2a3f5f"
                      },
                      "type": "carpet"
                    }
                  ],
                  "choropleth": [
                    {
                      "colorbar": {
                        "outlinewidth": 0,
                        "ticks": ""
                      },
                      "type": "choropleth"
                    }
                  ],
                  "contourcarpet": [
                    {
                      "colorbar": {
                        "outlinewidth": 0,
                        "ticks": ""
                      },
                      "type": "contourcarpet"
                    }
                  ],
                  "contour": [
                    {
                      "colorbar": {
                        "outlinewidth": 0,
                        "ticks": ""
                      },
                      "colorscale": [
                        [
                          0,
                          "#0d0887"
                        ],
                        [
                          0.1111111111111111,
                          "#46039f"
                        ],
                        [
                          0.2222222222222222,
                          "#7201a8"
                        ],
                        [
                          0.3333333333333333,
                          "#9c179e"
                        ],
                        [
                          0.4444444444444444,
                          "#bd3786"
                        ],
                        [
                          0.5555555555555556,
                          "#d8576b"
                        ],
                        [
                          0.6666666666666666,
                          "#ed7953"
                        ],
                        [
                          0.7777777777777778,
                          "#fb9f3a"
                        ],
                        [
                          0.8888888888888888,
                          "#fdca26"
                        ],
                        [
                          1,
                          "#f0f921"
                        ]
                      ],
                      "type": "contour"
                    }
                  ],
                  "heatmapgl": [
                    {
                      "colorbar": {
                        "outlinewidth": 0,
                        "ticks": ""
                      },
                      "colorscale": [
                        [
                          0,
                          "#0d0887"
                        ],
                        [
                          0.1111111111111111,
                          "#46039f"
                        ],
                        [
                          0.2222222222222222,
                          "#7201a8"
                        ],
                        [
                          0.3333333333333333,
                          "#9c179e"
                        ],
                        [
                          0.4444444444444444,
                          "#bd3786"
                        ],
                        [
                          0.5555555555555556,
                          "#d8576b"
                        ],
                        [
                          0.6666666666666666,
                          "#ed7953"
                        ],
                        [
                          0.7777777777777778,
                          "#fb9f3a"
                        ],
                        [
                          0.8888888888888888,
                          "#fdca26"
                        ],
                        [
                          1,
                          "#f0f921"
                        ]
                      ],
                      "type": "heatmapgl"
                    }
                  ],
                  "heatmap": [
                    {
                      "colorbar": {
                        "outlinewidth": 0,
                        "ticks": ""
                      },
                      "colorscale": [
                        [
                          0,
                          "#0d0887"
                        ],
                        [
                          0.1111111111111111,
                          "#46039f"
                        ],
                        [
                          0.2222222222222222,
                          "#7201a8"
                        ],
                        [
                          0.3333333333333333,
                          "#9c179e"
                        ],
                        [
                          0.4444444444444444,
                          "#bd3786"
                        ],
                        [
                          0.5555555555555556,
                          "#d8576b"
                        ],
                        [
                          0.6666666666666666,
                          "#ed7953"
                        ],
                        [
                          0.7777777777777778,
                          "#fb9f3a"
                        ],
                        [
                          0.8888888888888888,
                          "#fdca26"
                        ],
                        [
                          1,
                          "#f0f921"
                        ]
                      ],
                      "type": "heatmap"
                    }
                  ],
                  "histogram2dcontour": [
                    {
                      "colorbar": {
                        "outlinewidth": 0,
                        "ticks": ""
                      },
                      "colorscale": [
                        [
                          0,
                          "#0d0887"
                        ],
                        [
                          0.1111111111111111,
                          "#46039f"
                        ],
                        [
                          0.2222222222222222,
                          "#7201a8"
                        ],
                        [
                          0.3333333333333333,
                          "#9c179e"
                        ],
                        [
                          0.4444444444444444,
                          "#bd3786"
                        ],
                        [
                          0.5555555555555556,
                          "#d8576b"
                        ],
                        [
                          0.6666666666666666,
                          "#ed7953"
                        ],
                        [
                          0.7777777777777778,
                          "#fb9f3a"
                        ],
                        [
                          0.8888888888888888,
                          "#fdca26"
                        ],
                        [
                          1,
                          "#f0f921"
                        ]
                      ],
                      "type": "histogram2dcontour"
                    }
                  ],
                  "histogram2d": [
                    {
                      "colorbar": {
                        "outlinewidth": 0,
                        "ticks": ""
                      },
                      "colorscale": [
                        [
                          0,
                          "#0d0887"
                        ],
                        [
                          0.1111111111111111,
                          "#46039f"
                        ],
                        [
                          0.2222222222222222,
                          "#7201a8"
                        ],
                        [
                          0.3333333333333333,
                          "#9c179e"
                        ],
                        [
                          0.4444444444444444,
                          "#bd3786"
                        ],
                        [
                          0.5555555555555556,
                          "#d8576b"
                        ],
                        [
                          0.6666666666666666,
                          "#ed7953"
                        ],
                        [
                          0.7777777777777778,
                          "#fb9f3a"
                        ],
                        [
                          0.8888888888888888,
                          "#fdca26"
                        ],
                        [
                          1,
                          "#f0f921"
                        ]
                      ],
                      "type": "histogram2d"
                    }
                  ],
                  "histogram": [
                    {
                      "marker": {
                        "pattern": {
                          "fillmode": "overlay",
                          "size": 10,
                          "solidity": 0.2
                        }
                      },
                      "type": "histogram"
                    }
                  ],
                  "mesh3d": [
                    {
                      "colorbar": {
                        "outlinewidth": 0,
                        "ticks": ""
                      },
                      "type": "mesh3d"
                    }
                  ],
                  "parcoords": [
                    {
                      "line": {
                        "colorbar": {
                          "outlinewidth": 0,
                          "ticks": ""
                        }
                      },
                      "type": "parcoords"
                    }
                  ],
                  "pie": [
                    {
                      "automargin": true,
                      "type": "pie"
                    }
                  ],
                  "scatter3d": [
                    {
                      "line": {
                        "colorbar": {
                          "outlinewidth": 0,
                          "ticks": ""
                        }
                      },
                      "marker": {
                        "colorbar": {
                          "outlinewidth": 0,
                          "ticks": ""
                        }
                      },
                      "type": "scatter3d"
                    }
                  ],
                  "scattercarpet": [
                    {
                      "marker": {
                        "colorbar": {
                          "outlinewidth": 0,
                          "ticks": ""
                        }
                      },
                      "type": "scattercarpet"
                    }
                  ],
                  "scattergeo": [
                    {
                      "marker": {
                        "colorbar": {
                          "outlinewidth": 0,
                          "ticks": ""
                        }
                      },
                      "type": "scattergeo"
                    }
                  ],
                  "scattergl": [
                    {
                      "marker": {
                        "colorbar": {
                          "outlinewidth": 0,
                          "ticks": ""
                        }
                      },
                      "type": "scattergl"
                    }
                  ],
                  "scattermapbox": [
                    {
                      "marker": {
                        "colorbar": {
                          "outlinewidth": 0,
                          "ticks": ""
                        }
                      },
                      "type": "scattermapbox"
                    }
                  ],
                  "scatterpolargl": [
                    {
                      "marker": {
                        "colorbar": {
                          "outlinewidth": 0,
                          "ticks": ""
                        }
                      },
                      "type": "scatterpolargl"
                    }
                  ],
                  "scatterpolar": [
                    {
                      "marker": {
                        "colorbar": {
                          "outlinewidth": 0,
                          "ticks": ""
                        }
                      },
                      "type": "scatterpolar"
                    }
                  ],
                  "scatter": [
                    {
                      "marker": {
                        "colorbar": {
                          "outlinewidth": 0,
                          "ticks": ""
                        }
                      },
                      "type": "scatter"
                    }
                  ],
                  "scatterternary": [
                    {
                      "marker": {
                        "colorbar": {
                          "outlinewidth": 0,
                          "ticks": ""
                        }
                      },
                      "type": "scatterternary"
                    }
                  ],
                  "surface": [
                    {
                      "colorbar": {
                        "outlinewidth": 0,
                        "ticks": ""
                      },
                      "colorscale": [
                        [
                          0,
                          "#0d0887"
                        ],
                        [
                          0.1111111111111111,
                          "#46039f"
                        ],
                        [
                          0.2222222222222222,
                          "#7201a8"
                        ],
                        [
                          0.3333333333333333,
                          "#9c179e"
                        ],
                        [
                          0.4444444444444444,
                          "#bd3786"
                        ],
                        [
                          0.5555555555555556,
                          "#d8576b"
                        ],
                        [
                          0.6666666666666666,
                          "#ed7953"
                        ],
                        [
                          0.7777777777777778,
                          "#fb9f3a"
                        ],
                        [
                          0.8888888888888888,
                          "#fdca26"
                        ],
                        [
                          1,
                          "#f0f921"
                        ]
                      ],
                      "type": "surface"
                    }
                  ],
                  "table": [
                    {
                      "cells": {
                        "fill": {
                          "color": "#EBF0F8"
                        },
                        "line": {
                          "color": "white"
                        }
                      },
                      "header": {
                        "fill": {
                          "color": "#C8D4E3"
                        },
                        "line": {
                          "color": "white"
                        }
                      },
                      "type": "table"
                    }
                  ]
                },
                "layout": {
                  "annotationdefaults": {
                    "arrowcolor": "#2a3f5f",
                    "arrowhead": 0,
                    "arrowwidth": 1
                  },
                  "autotypenumbers": "strict",
                  "coloraxis": {
                    "colorbar": {
                      "outlinewidth": 0,
                      "ticks": ""
                    }
                  },
                  "colorscale": {
                    "diverging": [
                      [
                        0,
                        "#8e0152"
                      ],
                      [
                        0.1,
                        "#c51b7d"
                      ],
                      [
                        0.2,
                        "#de77ae"
                      ],
                      [
                        0.3,
                        "#f1b6da"
                      ],
                      [
                        0.4,
                        "#fde0ef"
                      ],
                      [
                        0.5,
                        "#f7f7f7"
                      ],
                      [
                        0.6,
                        "#e6f5d0"
                      ],
                      [
                        0.7,
                        "#b8e186"
                      ],
                      [
                        0.8,
                        "#7fbc41"
                      ],
                      [
                        0.9,
                        "#4d9221"
                      ],
                      [
                        1,
                        "#276419"
                      ]
                    ],
                    "sequential": [
                      [
                        0,
                        "#0d0887"
                      ],
                      [
                        0.1111111111111111,
                        "#46039f"
                      ],
                      [
                        0.2222222222222222,
                        "#7201a8"
                      ],
                      [
                        0.3333333333333333,
                        "#9c179e"
                      ],
                      [
                        0.4444444444444444,
                        "#bd3786"
                      ],
                      [
                        0.5555555555555556,
                        "#d8576b"
                      ],
                      [
                        0.6666666666666666,
                        "#ed7953"
                      ],
                      [
                        0.7777777777777778,
                        "#fb9f3a"
                      ],
                      [
                        0.8888888888888888,
                        "#fdca26"
                      ],
                      [
                        1,
                        "#f0f921"
                      ]
                    ],
                    "sequentialminus": [
                      [
                        0,
                        "#0d0887"
                      ],
                      [
                        0.1111111111111111,
                        "#46039f"
                      ],
                      [
                        0.2222222222222222,
                        "#7201a8"
                      ],
                      [
                        0.3333333333333333,
                        "#9c179e"
                      ],
                      [
                        0.4444444444444444,
                        "#bd3786"
                      ],
                      [
                        0.5555555555555556,
                        "#d8576b"
                      ],
                      [
                        0.6666666666666666,
                        "#ed7953"
                      ],
                      [
                        0.7777777777777778,
                        "#fb9f3a"
                      ],
                      [
                        0.8888888888888888,
                        "#fdca26"
                      ],
                      [
                        1,
                        "#f0f921"
                      ]
                    ]
                  },
                  "colorway": [
                    "#636efa",
                    "#EF553B",
                    "#00cc96",
                    "#ab63fa",
                    "#FFA15A",
                    "#19d3f3",
                    "#FF6692",
                    "#B6E880",
                    "#FF97FF",
                    "#FECB52"
                  ],
                  "font": {
                    "color": "#2a3f5f"
                  },
                  "geo": {
                    "bgcolor": "white",
                    "lakecolor": "white",
                    "landcolor": "#E5ECF6",
                    "showlakes": true,
                    "showland": true,
                    "subunitcolor": "white"
                  },
                  "hoverlabel": {
                    "align": "left"
                  },
                  "hovermode": "closest",
                  "mapbox": {
                    "style": "light"
                  },
                  "paper_bgcolor": "white",
                  "plot_bgcolor": "#E5ECF6",
                  "polar": {
                    "angularaxis": {
                      "gridcolor": "white",
                      "linecolor": "white",
                      "ticks": ""
                    },
                    "bgcolor": "#E5ECF6",
                    "radialaxis": {
                      "gridcolor": "white",
                      "linecolor": "white",
                      "ticks": ""
                    }
                  },
                  "scene": {
                    "xaxis": {
                      "backgroundcolor": "#E5ECF6",
                      "gridcolor": "white",
                      "gridwidth": 2,
                      "linecolor": "white",
                      "showbackground": true,
                      "ticks": "",
                      "zerolinecolor": "white"
                    },
                    "yaxis": {
                      "backgroundcolor": "#E5ECF6",
                      "gridcolor": "white",
                      "gridwidth": 2,
                      "linecolor": "white",
                      "showbackground": true,
                      "ticks": "",
                      "zerolinecolor": "white"
                    },
                    "zaxis": {
                      "backgroundcolor": "#E5ECF6",
                      "gridcolor": "white",
                      "gridwidth": 2,
                      "linecolor": "white",
                      "showbackground": true,
                      "ticks": "",
                      "zerolinecolor": "white"
                    }
                  },
                  "shapedefaults": {
                    "line": {
                      "color": "#2a3f5f"
                    }
                  },
                  "ternary": {
                    "aaxis": {
                      "gridcolor": "white",
                      "linecolor": "white",
                      "ticks": ""
                    },
                    "baxis": {
                      "gridcolor": "white",
                      "linecolor": "white",
                      "ticks": ""
                    },
                    "bgcolor": "#E5ECF6",
                    "caxis": {
                      "gridcolor": "white",
                      "linecolor": "white",
                      "ticks": ""
                    }
                  },
                  "title": {
                    "x": 0.05
                  },
                  "xaxis": {
                    "automargin": true,
                    "gridcolor": "white",
                    "linecolor": "white",
                    "ticks": "",
                    "title": {
                      "standoff": 15
                    },
                    "zerolinecolor": "white",
                    "zerolinewidth": 2
                  },
                  "yaxis": {
                    "automargin": true,
                    "gridcolor": "white",
                    "linecolor": "white",
                    "ticks": "",
                    "title": {
                      "standoff": 15
                    },
                    "zerolinecolor": "white",
                    "zerolinewidth": 2
                  }
                }
              },
              "xaxis": {
                "anchor": "y",
                "constrain": "domain",
                "domain": [
                  0,
                  1
                ],
                "scaleanchor": "y"
              },
              "yaxis": {
                "anchor": "x",
                "autorange": "reversed",
                "constrain": "domain",
                "domain": [
                  0,
                  1
                ]
              }
            },
            "_model_module": "jupyterlab-plotly",
            "_model_module_version": "^5.5.0",
            "_model_name": "FigureModel",
            "_py2js_addTraces": {},
            "_py2js_animate": {},
            "_py2js_deleteTraces": {},
            "_py2js_moveTraces": {},
            "_py2js_relayout": null,
            "_py2js_removeLayoutProps": null,
            "_py2js_removeTraceProps": {},
            "_py2js_restyle": null,
            "_py2js_update": {},
            "_view_count": 1,
            "_view_module": "jupyterlab-plotly",
            "_view_module_version": "^5.5.0",
            "_view_name": "FigureView"
          }
        }
      }
    }
  },
  "cells": [
    {
      "cell_type": "markdown",
      "metadata": {
        "id": "view-in-github",
        "colab_type": "text"
      },
      "source": [
        "<a href=\"https://colab.research.google.com/github/Luccascarpa/PO-II/blob/main/Notebook_P1_Programa%C3%A7%C3%A3o_Din%C3%A2mica.ipynb\" target=\"_parent\"><img src=\"https://colab.research.google.com/assets/colab-badge.svg\" alt=\"Open In Colab\"/></a>"
      ]
    },
    {
      "cell_type": "code",
      "metadata": {
        "id": "izyXqAojYj-8"
      },
      "source": [
        "import numpy as np\n",
        "import pandas as pd\n",
        "import seaborn as sns\n",
        "import datetime\n",
        "import plotly.express as px\n",
        "import plotly.graph_objects as go\n",
        "import time\n",
        "import functools"
      ],
      "execution_count": null,
      "outputs": []
    },
    {
      "cell_type": "code",
      "source": [
        "from google.colab import output\n",
        "output.enable_custom_widget_manager()"
      ],
      "metadata": {
        "id": "OINt1jLthJcl"
      },
      "execution_count": null,
      "outputs": []
    },
    {
      "cell_type": "code",
      "source": [
        "class interactive_board():\n",
        "  def __init__(self, board, fase, posicao, desafio=1):\n",
        "    self.board_original = board\n",
        "    self.desafio = desafio\n",
        "    self.fase = fase\n",
        "    self.posicao = posicao\n",
        "    \n",
        "    self.f = None#go.FigureWidget(px.imshow(self.board_original.copy()>0.5))\n",
        "    self.new_premio()\n",
        "\n",
        "  def new_premio(self):\n",
        "    if self.desafio in [1,2]:\n",
        "      self.premio_posicao = np.random.choice(np.arange(posicoes))\n",
        "      self.premio_fase = fases-1\n",
        "    else:\n",
        "      self.premio_posicao = np.random.choice(np.arange(posicoes))\n",
        "      self.premio_fase = np.random.choice(np.arange(fases),\n",
        "                                          p=[1/(fases-1) if i!=self.fase else 0 for i in range(fases)])\n",
        "    \n",
        "    self.update_plot()\n",
        "\n",
        "  def update_plot(self):\n",
        "    if self.desafio in [2, 4]:\n",
        "      new_board = 1*(np.random.rand(posicoes, fases)<self.board_original.copy())\n",
        "    else:\n",
        "      new_board = 1*(0.5<self.board_original.copy())\n",
        "    \n",
        "    new_board[self.premio_posicao, self.premio_fase] = 2\n",
        "    if new_board[self.posicao, self.fase]==1:\n",
        "      new_board[self.posicao, self.fase] = -2\n",
        "    else:\n",
        "      new_board[self.posicao, self.fase] = -1\n",
        "    if self.f is None:\n",
        "      self.f = go.FigureWidget(px.imshow(new_board, range_color=[-2, 2]))\n",
        "    else:\n",
        "      self.f.data[0]['z'] = new_board\n",
        "    return True\n",
        "\n",
        "  def update(self, fase, posicao):\n",
        "    self.fase = fase\n",
        "    self.posicao = posicao\n",
        "    if fase==self.premio_fase and posicao==self.premio_posicao:\n",
        "      self.new_premio()\n",
        "\n",
        "    self.update_plot()\n",
        "\n",
        "def criar_tabuleiro(fases, posicoes):\n",
        "  board = np.maximum(np.random.rand(posicoes, fases)-0.25, 0)\n",
        "  return board"
      ],
      "metadata": {
        "id": "iZxRvM6DoCUb"
      },
      "execution_count": null,
      "outputs": []
    },
    {
      "cell_type": "code",
      "source": [
        "fases = 20\n",
        "posicoes = 5\n",
        "board = criar_tabuleiro(fases, posicoes)"
      ],
      "metadata": {
        "id": "RyUW53yo8miq"
      },
      "execution_count": null,
      "outputs": []
    },
    {
      "cell_type": "code",
      "source": [
        "board.T"
      ],
      "metadata": {
        "colab": {
          "base_uri": "https://localhost:8080/"
        },
        "id": "86SVYT4BiTPr",
        "outputId": "78fde776-8f10-4434-9549-a8cd5bf13a5e"
      },
      "execution_count": null,
      "outputs": [
        {
          "output_type": "execute_result",
          "data": {
            "text/plain": [
              "array([[7.10322354e-01, 4.81872818e-01, 3.14103899e-01, 2.98536465e-01,\n",
              "        3.85352774e-01],\n",
              "       [3.84639994e-01, 0.00000000e+00, 4.44480680e-01, 3.54173941e-01,\n",
              "        1.82810978e-01],\n",
              "       [0.00000000e+00, 6.03389127e-01, 0.00000000e+00, 0.00000000e+00,\n",
              "        4.60393081e-01],\n",
              "       [6.56140390e-02, 6.49905230e-01, 0.00000000e+00, 0.00000000e+00,\n",
              "        0.00000000e+00],\n",
              "       [2.41070677e-01, 0.00000000e+00, 1.95731880e-01, 4.44453462e-02,\n",
              "        0.00000000e+00],\n",
              "       [3.88238952e-02, 2.05331378e-02, 5.77312947e-01, 0.00000000e+00,\n",
              "        0.00000000e+00],\n",
              "       [1.82703879e-02, 2.05230388e-01, 5.88468597e-01, 1.86280196e-01,\n",
              "        1.92317307e-01],\n",
              "       [1.42957189e-01, 7.72032158e-03, 4.28759562e-01, 2.83116527e-01,\n",
              "        1.14624399e-01],\n",
              "       [5.74868577e-01, 3.34355276e-01, 3.48183882e-01, 0.00000000e+00,\n",
              "        6.29202214e-01],\n",
              "       [8.54459311e-02, 6.96366053e-01, 3.52028687e-01, 3.94289590e-01,\n",
              "        2.04162516e-02],\n",
              "       [6.22939439e-01, 6.34160416e-01, 1.44004742e-01, 6.66839514e-01,\n",
              "        6.78396547e-01],\n",
              "       [0.00000000e+00, 3.37145345e-01, 2.65057054e-02, 1.16738889e-01,\n",
              "        6.26074382e-01],\n",
              "       [5.37502601e-01, 7.76560583e-02, 9.69468964e-02, 5.56742694e-01,\n",
              "        6.38432304e-01],\n",
              "       [4.38990146e-01, 0.00000000e+00, 1.88941307e-01, 5.16111258e-01,\n",
              "        6.60789230e-01],\n",
              "       [6.90884172e-01, 5.00258187e-01, 0.00000000e+00, 0.00000000e+00,\n",
              "        2.71233289e-01],\n",
              "       [4.11788557e-04, 0.00000000e+00, 2.53864477e-01, 9.63811759e-02,\n",
              "        6.64374158e-01],\n",
              "       [3.86422910e-01, 5.16617495e-01, 0.00000000e+00, 6.54118935e-01,\n",
              "        5.46232558e-02],\n",
              "       [2.51073652e-01, 0.00000000e+00, 3.27187283e-02, 6.92012335e-01,\n",
              "        7.42582846e-01],\n",
              "       [4.13750183e-01, 6.98584073e-01, 0.00000000e+00, 0.00000000e+00,\n",
              "        0.00000000e+00],\n",
              "       [3.87193337e-01, 0.00000000e+00, 8.01129240e-02, 4.33897414e-02,\n",
              "        9.13075156e-02]])"
            ]
          },
          "metadata": {},
          "execution_count": 77
        }
      ]
    },
    {
      "cell_type": "code",
      "source": [
        "posicao = 3\n",
        "fase = 0\n",
        "iter_board_1 = interactive_board(board, fase, posicao, desafio=1)\n",
        "#iter_board.f\n",
        "board_positions = iter_board_1.f['data'][0]['z']\n",
        "board_positions = pd.DataFrame(board).replace(2,1)"
      ],
      "metadata": {
        "id": "MDbCf11ygd3G"
      },
      "execution_count": null,
      "outputs": []
    },
    {
      "cell_type": "code",
      "source": [
        "def custo_a_b(a, b, pos_A, pos_B, x_destino_final=iter_board_1.premio_posicao, y_destino_final=iter_board_1.premio_fase, backwards=False):\n",
        "    \"\"\"Dadas duas casas do tabuleiro, A e B, e sendo elas casas de estágios\n",
        "    consecutivos, isto é, coluna de A é igual a coluna de B menos um, a fun-\n",
        "    ção retorna o custo de deslocamento entre as casas.\"\"\"\n",
        "    \n",
        "    # verifica se as posições passadas estão no tabuleiro\n",
        "\n",
        "    if pos_A[0] >=5:\n",
        "        print(\"Position A out of bounds\")\n",
        "        return None\n",
        "    if pos_B[0] >=5:\n",
        "        print(\"Position B out of bounds\")\n",
        "        return None\n",
        "    if pos_A[1] >=20:\n",
        "        print(\"Position A out of bounds\")\n",
        "        return None\n",
        "    if pos_B[1] >=20:\n",
        "        print(\"Position B out of bounds\")\n",
        "\n",
        "    # verifica se os valores são consecutivos\n",
        "    if backwards:\n",
        "        nao_consecutivos = pos_B[1] - pos_A[1] != -1\n",
        "    else:\n",
        "      nao_consecutivos = pos_B[1] - pos_A[1] != 1\n",
        "    if nao_consecutivos:\n",
        "        print(\"Favor, entre valores consecutivos.\")\n",
        "        return None\n",
        "\n",
        "    # define os valores de cada uma das cores\n",
        "\n",
        "    laranja = 1\n",
        "    rosa = 0\n",
        "\n",
        "    # calcula, baseado nos parâmetros\n",
        "\n",
        "    if a == laranja and b == rosa:\n",
        "        custo = 30\n",
        "    else:\n",
        "        deslocamento_vertical = abs(pos_A[0] - pos_B[0])\n",
        "        custo = 1 + deslocamento_vertical**2\n",
        "\n",
        "    # casos do último estágio, onde o valor final TEM QUE SER o x_destino_final e o y_destino_final\n",
        "    \n",
        "    if pos_B[1] == y_destino_final and pos_B[0] != x_destino_final:\n",
        "        custo = np.inf\n",
        "    \n",
        "    return custo"
      ],
      "metadata": {
        "id": "wEGaCE_VqdZb"
      },
      "execution_count": null,
      "outputs": []
    },
    {
      "cell_type": "code",
      "source": [
        "# define a matriz de entrada do caminho\n",
        "caminho_default = pd.Series([1e10 for i in range(20)],index = range(20), dtype=float)\n",
        "caminhos=[]\n",
        "tabuleiros ={}\n",
        "\n",
        "def gera_boards_positions(tab=1):\n",
        "  if tab==1: \n",
        "    return pd.DataFrame(iter_board_1.f['data'][0]['z'])\n",
        "  elif tab==2:\n",
        "    return pd.DataFrame(iter_board_2.f['data'][0]['z'])\n",
        "  elif tab==3:\n",
        "    return pd.DataFrame(iter_board_3.f['data'][0]['z'])\n",
        "\n",
        "def get_x_y_finais(tab=1):\n",
        "  if tab==1: \n",
        "    return iter_board_1.premio_posicao, iter_board_1.premio_fase\n",
        "  elif tab==2:\n",
        "    return iter_board_2.premio_posicao, iter_board_2.premio_fase\n",
        "  elif tab==3:\n",
        "    return iter_board_3.premio_posicao, iter_board_3.premio_fase\n",
        "\n",
        "\n",
        "@functools.lru_cache(maxsize=None)\n",
        "def cam_min(inicial, final, estagio=0, tab=1, registra_tabuleiros=False):\n",
        "    \"\"\"\n",
        "    inicial (tuple): posição inicial no tabuleiro\n",
        "    final (tuple): posição final no tabuleiro\n",
        "    estagio (int): estagio, ou seja, coluna, da posição inicial no tabuleiro\n",
        "    caminho (pd.Series): vetor com os caminhos registrados até o momento\n",
        "    \"\"\"\n",
        "\n",
        "    x_final, y_final = get_x_y_finais(tab=tab)\n",
        "\n",
        "    # pega as posições do tabuleiro do momento\n",
        "    board_positions = gera_boards_positions(tab=tab)\n",
        "    board_positions = board_positions.replace(2,0)\n",
        "\n",
        "    # preenche a primeira posição no estado inicial\n",
        "    if estagio == 0:\n",
        "        caminho_default[0] = inicial[0]\n",
        "        tabuleiros[0] = board_positions\n",
        "\n",
        "    # se o estagio inicial for igual ao final\n",
        "\n",
        "    if inicial[1] == final[1]:\n",
        "        return 0, caminhos\n",
        "    \n",
        "    custo_min = np.inf\n",
        "    \n",
        "    prox_estagio = estagio + 1\n",
        "    \n",
        "    possiveis_casas = board_positions[prox_estagio]\n",
        "\n",
        "    for row, casa in enumerate(possiveis_casas):\n",
        "\n",
        "            position_a = inicial\n",
        "            position_b = (row, prox_estagio)\n",
        "\n",
        "            cor_a = board_positions.loc[inicial[0], inicial[1]]\n",
        "            cor_b = casa\n",
        "            \n",
        "            custo_jogada = custo_a_b(cor_a, cor_b, position_a, position_b, x_destino_final=x_final, y_destino_final=y_final)\n",
        "\n",
        "            custo_prox_final, *_ = cam_min(position_b, final, estagio = prox_estagio)\n",
        "\n",
        "            custo = custo_prox_final + custo_jogada\n",
        "\n",
        "            if custo < custo_min:\n",
        "                custo_min = custo\n",
        "                caminho_default[estagio+1] = row\n",
        "                caminhos.append(caminho_default)\n",
        "                if registra_tabuleiros == True:\n",
        "                    tabuleiros[estagio+1] = board_positions\n",
        "    \n",
        "    caminho = caminhos[-1]\n",
        "    caminho = caminho.head(y_final+1)\n",
        "    return custo_min, caminho"
      ],
      "metadata": {
        "id": "ii9HzCB9N_hE"
      },
      "execution_count": null,
      "outputs": []
    },
    {
      "cell_type": "code",
      "source": [
        "### DESAFIO 1\n",
        "\n",
        "\"\"\"\n",
        "\n",
        "Para a resolução do Desafio 1, basta aplicar a função cam_min, para obter o custo mínimo. Além\n",
        "do custo, é interessante saber o caminho. Para isso, é necessário definir um objeto Series com suas\n",
        "chaves iguais às fases, que será alimentado com a melhor posição para aquela fase. \n",
        "    Obs: o caminho foi definido previamente à função.\n",
        "\n",
        "\"\"\"\n",
        "\n",
        "inicio = (3,0)\n",
        "final = (iter_board_1.premio_posicao,iter_board_1.premio_fase)\n",
        "custo_minimo, caminho = cam_min(inicio, final)\n",
        "\n",
        "print(f\"\"\"\\n{10*'='} DESAFIO 1 - Tabuleiro Determinístico e Objetivo Único {10*'='}\\n\\nCaminho mínimo no Desafio 1, saindo do ponto {inicio} para o ponto {final}: {custo_minimo}.\\n\\nCaminho percorrido: \\n{caminho}\"\"\")"
      ],
      "metadata": {
        "colab": {
          "base_uri": "https://localhost:8080/"
        },
        "id": "II1xoDFpOEks",
        "outputId": "5f69a0b3-6fca-4dea-f582-4e24125f8880"
      },
      "execution_count": null,
      "outputs": [
        {
          "output_type": "stream",
          "name": "stdout",
          "text": [
            "\n",
            "========== DESAFIO 1 - Tabuleiro Determinístico e Objetivo Único ==========\n",
            "\n",
            "Caminho mínimo no Desafio 1, saindo do ponto (3, 0) para o ponto (1, 19): 21.\n",
            "\n",
            "Caminho percorrido: \n",
            "0     3.0\n",
            "1     3.0\n",
            "2     3.0\n",
            "3     3.0\n",
            "4     3.0\n",
            "5     3.0\n",
            "6     3.0\n",
            "7     3.0\n",
            "8     3.0\n",
            "9     2.0\n",
            "10    2.0\n",
            "11    2.0\n",
            "12    2.0\n",
            "13    2.0\n",
            "14    2.0\n",
            "15    3.0\n",
            "16    0.0\n",
            "17    2.0\n",
            "18    0.0\n",
            "19    1.0\n",
            "dtype: float64\n"
          ]
        }
      ]
    },
    {
      "cell_type": "code",
      "source": [
        "iter_board_1.f"
      ],
      "metadata": {
        "colab": {
          "base_uri": "https://localhost:8080/",
          "height": 467,
          "referenced_widgets": [
            "c544ede0d8fc40da9536932cff2a1477"
          ]
        },
        "id": "5rFA_RCIUu4d",
        "outputId": "cfc6daa6-4252-48e8-9436-7160043098e3"
      },
      "execution_count": null,
      "outputs": [
        {
          "output_type": "display_data",
          "data": {
            "text/plain": [
              "FigureWidget({\n",
              "    'data': [{'coloraxis': 'coloraxis',\n",
              "              'hovertemplate': 'x: %{x}<br>y: %{y}<br>c…"
            ],
            "application/vnd.jupyter.widget-view+json": {
              "version_major": 2,
              "version_minor": 0,
              "model_id": "c544ede0d8fc40da9536932cff2a1477"
            }
          },
          "metadata": {
            "application/vnd.jupyter.widget-view+json": {
              "colab": {
                "custom_widget_manager": {
                  "url": "https://ssl.gstatic.com/colaboratory-static/widgets/colab-cdn-widget-manager/a8874ba6619b6106/manager.min.js"
                }
              }
            }
          }
        }
      ]
    },
    {
      "cell_type": "code",
      "source": [
        "## Andar o tabuleiro no desafio 1\n",
        "\n",
        "def anda_tabuleiro_1(caminho):\n",
        "  \"\"\"Essa função recebe de entrada um caminho \n",
        "  e roda ele no último tabuleiro plotado\"\"\"\n",
        "\n",
        "  caminho = caminho.astype(int).to_list()\n",
        "\n",
        "  for fase, posicao in enumerate(caminho):\n",
        "    iter_board_1.update(fase, posicao)\n",
        "\n",
        "anda_tabuleiro_1(caminho)"
      ],
      "metadata": {
        "id": "1YJqfg3IQ7JV"
      },
      "execution_count": null,
      "outputs": []
    },
    {
      "cell_type": "code",
      "source": [
        "posicao = 3\n",
        "fase = 0\n",
        "iter_board_2 = interactive_board(board, fase, posicao, desafio=2)\n",
        "iter_board_2.f"
      ],
      "metadata": {
        "colab": {
          "base_uri": "https://localhost:8080/",
          "height": 467,
          "referenced_widgets": [
            "5aa370841f0b416e89fdfea51cfd3320"
          ]
        },
        "id": "zNF2Cm0dVioq",
        "outputId": "7e859eee-7f6d-428c-ec85-5c46e2742666"
      },
      "execution_count": null,
      "outputs": [
        {
          "output_type": "display_data",
          "data": {
            "text/plain": [
              "FigureWidget({\n",
              "    'data': [{'coloraxis': 'coloraxis',\n",
              "              'hovertemplate': 'x: %{x}<br>y: %{y}<br>c…"
            ],
            "application/vnd.jupyter.widget-view+json": {
              "version_major": 2,
              "version_minor": 0,
              "model_id": "5aa370841f0b416e89fdfea51cfd3320"
            }
          },
          "metadata": {
            "application/vnd.jupyter.widget-view+json": {
              "colab": {
                "custom_widget_manager": {
                  "url": "https://ssl.gstatic.com/colaboratory-static/widgets/colab-cdn-widget-manager/a8874ba6619b6106/manager.min.js"
                }
              }
            }
          }
        }
      ]
    },
    {
      "cell_type": "code",
      "source": [
        "## Andar o tabuleiro no desafio 2\n",
        "\n",
        "def anda_tabuleiro_2(caminho_inicial):\n",
        "  \"\"\"Essa função recebe de entrada um caminho \n",
        "  e roda ele no último tabuleiro plotado\"\"\"\n",
        "\n",
        "  caminho_inicial = caminho_inicial.astype(int).to_list()\n",
        "\n",
        "  inicial = (3,0)\n",
        "  final = (iter_board_2.premio_posicao, 19)\n",
        "\n",
        "  registro_caminhos = pd.DataFrame([])\n",
        "\n",
        "  for fase in range(19):\n",
        "    # calcula o caminho e o preço\n",
        "    custo, caminho = cam_min(inicial, final, estagio=fase, tab=2, registra_tabuleiros=True)\n",
        "    \n",
        "    # registra o caminho\n",
        "    registro_caminhos[f'Fase {fase}'] = caminho\n",
        "\n",
        "    # pega a próxima fase e posição\n",
        "    fase += 1\n",
        "    posicao = int(caminho[fase])\n",
        "\n",
        "    # atualiza no gráfico\n",
        "    iter_board_2.update(fase, posicao)\n",
        "    \n",
        "\n",
        "    # roda o código que encontra o caminho novamente\n",
        "    inicial = (posicao, fase)\n",
        "    custo, caminhos = cam_min(inicial, final, estagio=fase, tab=2)\n",
        "\n",
        "    # coloca como NaN todos os caminhos prévios ao estágio\n",
        "    for i in range(fase):\n",
        "      caminho[i] = np.NaN\n",
        "\n",
        "    if fase == 19:\n",
        "      registro_caminhos[f'Fase {fase}'] = caminho\n",
        "  \n",
        "  # tira a diagonal da matriz para achar o caminho percorrido\n",
        "\n",
        "  caminho_otimo = pd.Series([], dtype=float)\n",
        "  for i in range(20):\n",
        "    casa = registro_caminhos.iloc[i,i]\n",
        "    caminho_otimo[i] = casa\n",
        "  return caminho_otimo\n",
        "\n",
        "\n",
        "caminho = anda_tabuleiro_2(caminho)"
      ],
      "metadata": {
        "id": "Imwt6fzgVrRM"
      },
      "execution_count": null,
      "outputs": []
    },
    {
      "cell_type": "code",
      "source": [
        "def get_custo_tab2(caminho, tabuleiros):\n",
        "    \"\"\"O dicionário \"tabuleiros\", que foi registrado quando se percorreu a função \n",
        "    compila todos os caminhos que foram registrados à medida que a função foi cha-\n",
        "    mada, e será usado para o cálculo do custo de deslocamento.\"\"\"\n",
        "\n",
        "    custo = 0\n",
        "    for i in range(18):\n",
        "        curr_tab = tabuleiros[i]\n",
        "        posicao_a = (caminho[i], i)\n",
        "        posicao_b = (caminho[i+1],i+1)\n",
        "\n",
        "        cor_a = curr_tab.loc[caminho[i], i]\n",
        "        cor_b = curr_tab.loc[caminho[i+1],i+1]\n",
        "\n",
        "        custo_jogada = custo_a_b(cor_a,cor_b,posicao_a, posicao_b)\n",
        "\n",
        "        custo += custo_jogada\n",
        "\n",
        "    return custo\n",
        "\n",
        "custo_minimo = get_custo_tab2(caminho, tabuleiros)"
      ],
      "metadata": {
        "id": "RTvexRckU6wO"
      },
      "execution_count": null,
      "outputs": []
    },
    {
      "cell_type": "code",
      "source": [
        "### DESAFIO 2\n",
        "\n",
        "\"\"\"\n",
        "\n",
        "Para a resolução do Desafio 2, é necessário recalcular o caminho ótimo toda vez que\n",
        "o jogador troca de casa, como se o GPS recebesse umna atualização e precisasse mudar \n",
        "sua rota. Para isso, a função calcula o caminho míimo, registra ele, anda uma casa,\n",
        "reclacula o caminho, registra ele, anda mais uma casa, e assim sucessivamente.\n",
        "  Obs: para que os códigos do desafio 2 funcionem, é preciso que tudo seja rodado\n",
        "sequência, ou seja, com o atributo run all.\n",
        "\n",
        "\n",
        "\"\"\"\n",
        "\n",
        "inicio = (3,0)\n",
        "final = (iter_board_2.premio_posicao,19)\n",
        "\n",
        "print(f\"\"\"\\n{15*'='} DESAFIO 2 - Tabuleiro Estocástico e Objetivo Único {15*'='}\\n\\nCaminho mínimo no Desafio 2, saindo do ponto {inicio} para o ponto {final}: {custo_minimo}.\\n\\nCaminho percorrido: \\n{caminho}\"\"\")"
      ],
      "metadata": {
        "colab": {
          "base_uri": "https://localhost:8080/"
        },
        "id": "XD8_uxfisYGX",
        "outputId": "c1e1f265-63e6-43d3-851b-f9a0cd131e4b"
      },
      "execution_count": null,
      "outputs": [
        {
          "output_type": "stream",
          "name": "stdout",
          "text": [
            "\n",
            "=============== DESAFIO 2 - Tabuleiro Estocástico e Objetivo Único ===============\n",
            "\n",
            "Caminho mínimo no Desafio 2, saindo do ponto (3, 0) para o ponto (0, 19): 77.0.\n",
            "\n",
            "Caminho percorrido: \n",
            "0     3.0\n",
            "1     3.0\n",
            "2     3.0\n",
            "3     3.0\n",
            "4     3.0\n",
            "5     3.0\n",
            "6     3.0\n",
            "7     2.0\n",
            "8     2.0\n",
            "9     2.0\n",
            "10    2.0\n",
            "11    2.0\n",
            "12    2.0\n",
            "13    2.0\n",
            "14    2.0\n",
            "15    2.0\n",
            "16    2.0\n",
            "17    2.0\n",
            "18    2.0\n",
            "19    2.0\n",
            "dtype: float64\n"
          ]
        }
      ]
    },
    {
      "cell_type": "code",
      "source": [
        "def getIndexes(dfObj, value):\n",
        "     \n",
        "    # Empty list\n",
        "    listOfPos = []\n",
        "     \n",
        "    # isin() method will return a dataframe with\n",
        "    # boolean values, True at the positions   \n",
        "    # where element exists\n",
        "    result = dfObj.isin([value])\n",
        "     \n",
        "    # any() method will return\n",
        "    # a boolean series\n",
        "    seriesObj = result.any()\n",
        " \n",
        "    # Get list of column names where\n",
        "    # element exists\n",
        "    columnNames = list(seriesObj[seriesObj == True].index)\n",
        "    \n",
        "    # Iterate over the list of columns and\n",
        "    # extract the row index where element exists\n",
        "    for col in columnNames:\n",
        "        rows = list(result[col][result[col] == True].index)\n",
        " \n",
        "        for row in rows:\n",
        "            listOfPos.append((row, col))\n",
        "             \n",
        "    # This list contains a list tuples with\n",
        "    # the index of element in the dataframe\n",
        "    return listOfPos"
      ],
      "metadata": {
        "id": "F5GK25_Fxyhi"
      },
      "execution_count": null,
      "outputs": []
    },
    {
      "cell_type": "code",
      "source": [
        "## DESAFIO 3\n",
        "\n",
        "posicao = 3\n",
        "fase = 0\n",
        "iter_board_3 = interactive_board(board, fase, posicao, desafio=3)\n",
        "iter_board_3.f"
      ],
      "metadata": {
        "id": "yhkoA2eptviV",
        "colab": {
          "base_uri": "https://localhost:8080/",
          "height": 467,
          "referenced_widgets": [
            "24a3f2ae36d742f7ae17ba12a6b84f23"
          ]
        },
        "outputId": "b578b84d-8dc8-408e-b247-128ff3a1928e"
      },
      "execution_count": null,
      "outputs": [
        {
          "output_type": "display_data",
          "data": {
            "text/plain": [
              "FigureWidget({\n",
              "    'data': [{'coloraxis': 'coloraxis',\n",
              "              'hovertemplate': 'x: %{x}<br>y: %{y}<br>c…"
            ],
            "application/vnd.jupyter.widget-view+json": {
              "version_major": 2,
              "version_minor": 0,
              "model_id": "24a3f2ae36d742f7ae17ba12a6b84f23"
            }
          },
          "metadata": {
            "application/vnd.jupyter.widget-view+json": {
              "colab": {
                "custom_widget_manager": {
                  "url": "https://ssl.gstatic.com/colaboratory-static/widgets/colab-cdn-widget-manager/a8874ba6619b6106/manager.min.js"
                }
              }
            }
          }
        }
      ]
    },
    {
      "cell_type": "code",
      "source": [
        "def segunda_etapa_desafio_3():\n",
        "    \"\"\"Essa função passa de um ponto arbitrário a outro do tabuleiro, \n",
        "    registrando o custo desse caminho, em três possíveis casos, a di-\n",
        "    reita, à esquerda ou na mesma coluna\"\"\"\n",
        "\n",
        "    current_position, obj_2, caminho1 = primeira_etapa_desafio_3()\n",
        "\n",
        "    fase_atual = current_position[1]\n",
        "    fase_destino = obj_2[1]\n",
        "\n",
        "    posicao_atual = current_position[0]\n",
        "    posicao_destino = obj_2[0]\n",
        "\n",
        "    if fase_atual < fase_destino:\n",
        "      custo, caminho2 = cam_min(current_position, obj_2, estagio=fase_atual)\n",
        "      for i in range(fase_atual):\n",
        "        caminho2[i] = np.NaN\n",
        "      caminho2 = caminho2.head(fase_destino+1)\n",
        "    \n",
        "    if fase_atual > fase_destino:\n",
        "      custo, caminho2 = cam_min(obj_2, current_position, estagio=fase_destino)\n",
        "      for i in range(fase_destino):\n",
        "        caminho2[i] = np.NaN\n",
        "      caminho2 = caminho2.head(fase_atual+1)\n",
        "      caminho2 = caminho2.iloc[::-1]\n",
        "\n",
        "    if fase_atual == fase_destino:\n",
        "      caminho2 = 0\n",
        "    \n",
        "    print(\"Caminho 1:\", caminho1)\n",
        "    print(\"Caminho 2:\", caminho2)\n",
        "\n",
        "\n",
        "segunda_etapa_desafio_3()\n"
      ],
      "metadata": {
        "colab": {
          "base_uri": "https://localhost:8080/",
          "height": 173
        },
        "id": "LB9EXugQyiBG",
        "outputId": "af3d1574-aec2-4827-b21b-406bc9ddabe8"
      },
      "execution_count": null,
      "outputs": [
        {
          "output_type": "stream",
          "name": "stdout",
          "text": [
            "Caminho 1: 0    3.0\n",
            "1    3.0\n",
            "2    4.0\n",
            "3    4.0\n",
            "4    4.0\n",
            "5    4.0\n",
            "6    4.0\n",
            "dtype: float64\n",
            "Caminho 2: 0\n"
          ]
        }
      ]
    },
    {
      "cell_type": "code",
      "source": [
        "def primeira_etapa_desafio_3(inicial = (3,0)):\n",
        "    \"\"\"Essa função retorna a posição final e o novo objetivo e calcula \n",
        "    o caminho para chegar ao primeiro objetivo traçado no tabuleiro 3\"\"\"\n",
        "\n",
        "    # calcula o custo e o caminho para andara até o primeiro objetivo \n",
        "\n",
        "    obj_2 = getIndexes(board_positions, 2)[0]\n",
        "    custo1, caminho1 = cam_min(inicial, obj_1, tab=3)\n",
        "    list_caminho1 = caminho1.astype(int).to_list()\n",
        "\n",
        "    # anda no tabuleiro\n",
        "\n",
        "    for fase, posicao in enumerate(list_caminho1):\n",
        "        iter_board_3.update(fase, int(posicao))\n",
        "    board_positions = gera_boards_positions(tab=3)\n",
        "    obj_2 = getIndexes(board_positions, 2)[0]\n",
        "\n",
        "    current_position = obj_1\n",
        "    \n",
        "    return current_position, obj_2, caminho1"
      ],
      "metadata": {
        "colab": {
          "base_uri": "https://localhost:8080/",
          "height": 208
        },
        "id": "U9moM8MyahoT",
        "outputId": "954ade50-5c73-495a-cc63-4a09f3df76ec"
      },
      "execution_count": null,
      "outputs": [
        {
          "output_type": "execute_result",
          "data": {
            "text/plain": [
              "((1, 9), (1, 10), 0    3.0\n",
              " 1    3.0\n",
              " 2    3.0\n",
              " 3    3.0\n",
              " 4    3.0\n",
              " 5    3.0\n",
              " 6    3.0\n",
              " 7    3.0\n",
              " 8    3.0\n",
              " 9    1.0\n",
              " dtype: float64)"
            ]
          },
          "metadata": {},
          "execution_count": 307
        }
      ]
    },
    {
      "cell_type": "code",
      "source": [
        "obj_1 = get_x_y_finais(tab=3)\n",
        "\n",
        "cam_min(obj_1,(3,0), estagio=obj_1[1], tab=3, backwards=True)"
      ],
      "metadata": {
        "colab": {
          "base_uri": "https://localhost:8080/",
          "height": 555
        },
        "id": "HVJbt861rHY2",
        "outputId": "701dc2f3-44ea-47cf-ac6d-3a4e6131714f"
      },
      "execution_count": null,
      "outputs": [
        {
          "output_type": "stream",
          "name": "stdout",
          "text": [
            "(0, 17) (0, 16)\n",
            "Favor, entre valores consecutivos.\n",
            "(0, 16) (0, 17)\n",
            "Favor, entre valores consecutivos.\n",
            "(0, 17) (0, 18)\n",
            "Favor, entre valores consecutivos.\n",
            "(0, 18) (0, 19)\n"
          ]
        },
        {
          "output_type": "error",
          "ename": "KeyError",
          "evalue": "ignored",
          "traceback": [
            "\u001b[0;31m---------------------------------------------------------------------------\u001b[0m",
            "\u001b[0;31mValueError\u001b[0m                                Traceback (most recent call last)",
            "\u001b[0;32m/usr/local/lib/python3.7/dist-packages/pandas/core/indexes/range.py\u001b[0m in \u001b[0;36mget_loc\u001b[0;34m(self, key, method, tolerance)\u001b[0m\n\u001b[1;32m    384\u001b[0m                 \u001b[0;32mtry\u001b[0m\u001b[0;34m:\u001b[0m\u001b[0;34m\u001b[0m\u001b[0;34m\u001b[0m\u001b[0m\n\u001b[0;32m--> 385\u001b[0;31m                     \u001b[0;32mreturn\u001b[0m \u001b[0mself\u001b[0m\u001b[0;34m.\u001b[0m\u001b[0m_range\u001b[0m\u001b[0;34m.\u001b[0m\u001b[0mindex\u001b[0m\u001b[0;34m(\u001b[0m\u001b[0mnew_key\u001b[0m\u001b[0;34m)\u001b[0m\u001b[0;34m\u001b[0m\u001b[0;34m\u001b[0m\u001b[0m\n\u001b[0m\u001b[1;32m    386\u001b[0m                 \u001b[0;32mexcept\u001b[0m \u001b[0mValueError\u001b[0m \u001b[0;32mas\u001b[0m \u001b[0merr\u001b[0m\u001b[0;34m:\u001b[0m\u001b[0;34m\u001b[0m\u001b[0;34m\u001b[0m\u001b[0m\n",
            "\u001b[0;31mValueError\u001b[0m: 20 is not in range",
            "\nThe above exception was the direct cause of the following exception:\n",
            "\u001b[0;31mKeyError\u001b[0m                                  Traceback (most recent call last)",
            "\u001b[0;32m<ipython-input-210-5b23c59a52af>\u001b[0m in \u001b[0;36m<module>\u001b[0;34m()\u001b[0m\n\u001b[1;32m      1\u001b[0m \u001b[0mobj_1\u001b[0m \u001b[0;34m=\u001b[0m \u001b[0mget_x_y_finais\u001b[0m\u001b[0;34m(\u001b[0m\u001b[0mtab\u001b[0m\u001b[0;34m=\u001b[0m\u001b[0;36m3\u001b[0m\u001b[0;34m)\u001b[0m\u001b[0;34m\u001b[0m\u001b[0;34m\u001b[0m\u001b[0m\n\u001b[1;32m      2\u001b[0m \u001b[0;34m\u001b[0m\u001b[0m\n\u001b[0;32m----> 3\u001b[0;31m \u001b[0mcam_min\u001b[0m\u001b[0;34m(\u001b[0m\u001b[0mobj_1\u001b[0m\u001b[0;34m,\u001b[0m\u001b[0;34m(\u001b[0m\u001b[0;36m3\u001b[0m\u001b[0;34m,\u001b[0m\u001b[0;36m0\u001b[0m\u001b[0;34m)\u001b[0m\u001b[0;34m,\u001b[0m \u001b[0mestagio\u001b[0m\u001b[0;34m=\u001b[0m\u001b[0mobj_1\u001b[0m\u001b[0;34m[\u001b[0m\u001b[0;36m1\u001b[0m\u001b[0;34m]\u001b[0m\u001b[0;34m,\u001b[0m \u001b[0mtab\u001b[0m\u001b[0;34m=\u001b[0m\u001b[0;36m3\u001b[0m\u001b[0;34m,\u001b[0m \u001b[0mbackwards\u001b[0m\u001b[0;34m=\u001b[0m\u001b[0;32mTrue\u001b[0m\u001b[0;34m)\u001b[0m\u001b[0;34m\u001b[0m\u001b[0;34m\u001b[0m\u001b[0m\n\u001b[0m",
            "\u001b[0;32m<ipython-input-207-7f809a9adf0f>\u001b[0m in \u001b[0;36mcam_min\u001b[0;34m(inicial, final, estagio, tab, registra_tabuleiros, backwards)\u001b[0m\n\u001b[1;32m     64\u001b[0m             \u001b[0mprint\u001b[0m\u001b[0;34m(\u001b[0m\u001b[0mposition_a\u001b[0m\u001b[0;34m,\u001b[0m \u001b[0mposition_b\u001b[0m\u001b[0;34m)\u001b[0m\u001b[0;34m\u001b[0m\u001b[0;34m\u001b[0m\u001b[0m\n\u001b[1;32m     65\u001b[0m \u001b[0;34m\u001b[0m\u001b[0m\n\u001b[0;32m---> 66\u001b[0;31m             \u001b[0mcusto_prox_final\u001b[0m\u001b[0;34m,\u001b[0m \u001b[0;34m*\u001b[0m\u001b[0m_\u001b[0m \u001b[0;34m=\u001b[0m \u001b[0mcam_min\u001b[0m\u001b[0;34m(\u001b[0m\u001b[0mposition_b\u001b[0m\u001b[0;34m,\u001b[0m \u001b[0mfinal\u001b[0m\u001b[0;34m,\u001b[0m \u001b[0mestagio\u001b[0m \u001b[0;34m=\u001b[0m \u001b[0mprox_estagio\u001b[0m\u001b[0;34m)\u001b[0m\u001b[0;34m\u001b[0m\u001b[0;34m\u001b[0m\u001b[0m\n\u001b[0m\u001b[1;32m     67\u001b[0m \u001b[0;34m\u001b[0m\u001b[0m\n\u001b[1;32m     68\u001b[0m             \u001b[0mcusto\u001b[0m \u001b[0;34m=\u001b[0m \u001b[0mcusto_prox_final\u001b[0m \u001b[0;34m+\u001b[0m \u001b[0mcusto_jogada\u001b[0m\u001b[0;34m\u001b[0m\u001b[0;34m\u001b[0m\u001b[0m\n",
            "\u001b[0;32m<ipython-input-207-7f809a9adf0f>\u001b[0m in \u001b[0;36mcam_min\u001b[0;34m(inicial, final, estagio, tab, registra_tabuleiros, backwards)\u001b[0m\n\u001b[1;32m     64\u001b[0m             \u001b[0mprint\u001b[0m\u001b[0;34m(\u001b[0m\u001b[0mposition_a\u001b[0m\u001b[0;34m,\u001b[0m \u001b[0mposition_b\u001b[0m\u001b[0;34m)\u001b[0m\u001b[0;34m\u001b[0m\u001b[0;34m\u001b[0m\u001b[0m\n\u001b[1;32m     65\u001b[0m \u001b[0;34m\u001b[0m\u001b[0m\n\u001b[0;32m---> 66\u001b[0;31m             \u001b[0mcusto_prox_final\u001b[0m\u001b[0;34m,\u001b[0m \u001b[0;34m*\u001b[0m\u001b[0m_\u001b[0m \u001b[0;34m=\u001b[0m \u001b[0mcam_min\u001b[0m\u001b[0;34m(\u001b[0m\u001b[0mposition_b\u001b[0m\u001b[0;34m,\u001b[0m \u001b[0mfinal\u001b[0m\u001b[0;34m,\u001b[0m \u001b[0mestagio\u001b[0m \u001b[0;34m=\u001b[0m \u001b[0mprox_estagio\u001b[0m\u001b[0;34m)\u001b[0m\u001b[0;34m\u001b[0m\u001b[0;34m\u001b[0m\u001b[0m\n\u001b[0m\u001b[1;32m     67\u001b[0m \u001b[0;34m\u001b[0m\u001b[0m\n\u001b[1;32m     68\u001b[0m             \u001b[0mcusto\u001b[0m \u001b[0;34m=\u001b[0m \u001b[0mcusto_prox_final\u001b[0m \u001b[0;34m+\u001b[0m \u001b[0mcusto_jogada\u001b[0m\u001b[0;34m\u001b[0m\u001b[0;34m\u001b[0m\u001b[0m\n",
            "\u001b[0;32m<ipython-input-207-7f809a9adf0f>\u001b[0m in \u001b[0;36mcam_min\u001b[0;34m(inicial, final, estagio, tab, registra_tabuleiros, backwards)\u001b[0m\n\u001b[1;32m     64\u001b[0m             \u001b[0mprint\u001b[0m\u001b[0;34m(\u001b[0m\u001b[0mposition_a\u001b[0m\u001b[0;34m,\u001b[0m \u001b[0mposition_b\u001b[0m\u001b[0;34m)\u001b[0m\u001b[0;34m\u001b[0m\u001b[0;34m\u001b[0m\u001b[0m\n\u001b[1;32m     65\u001b[0m \u001b[0;34m\u001b[0m\u001b[0m\n\u001b[0;32m---> 66\u001b[0;31m             \u001b[0mcusto_prox_final\u001b[0m\u001b[0;34m,\u001b[0m \u001b[0;34m*\u001b[0m\u001b[0m_\u001b[0m \u001b[0;34m=\u001b[0m \u001b[0mcam_min\u001b[0m\u001b[0;34m(\u001b[0m\u001b[0mposition_b\u001b[0m\u001b[0;34m,\u001b[0m \u001b[0mfinal\u001b[0m\u001b[0;34m,\u001b[0m \u001b[0mestagio\u001b[0m \u001b[0;34m=\u001b[0m \u001b[0mprox_estagio\u001b[0m\u001b[0;34m)\u001b[0m\u001b[0;34m\u001b[0m\u001b[0;34m\u001b[0m\u001b[0m\n\u001b[0m\u001b[1;32m     67\u001b[0m \u001b[0;34m\u001b[0m\u001b[0m\n\u001b[1;32m     68\u001b[0m             \u001b[0mcusto\u001b[0m \u001b[0;34m=\u001b[0m \u001b[0mcusto_prox_final\u001b[0m \u001b[0;34m+\u001b[0m \u001b[0mcusto_jogada\u001b[0m\u001b[0;34m\u001b[0m\u001b[0;34m\u001b[0m\u001b[0m\n",
            "\u001b[0;32m<ipython-input-207-7f809a9adf0f>\u001b[0m in \u001b[0;36mcam_min\u001b[0;34m(inicial, final, estagio, tab, registra_tabuleiros, backwards)\u001b[0m\n\u001b[1;32m     64\u001b[0m             \u001b[0mprint\u001b[0m\u001b[0;34m(\u001b[0m\u001b[0mposition_a\u001b[0m\u001b[0;34m,\u001b[0m \u001b[0mposition_b\u001b[0m\u001b[0;34m)\u001b[0m\u001b[0;34m\u001b[0m\u001b[0;34m\u001b[0m\u001b[0m\n\u001b[1;32m     65\u001b[0m \u001b[0;34m\u001b[0m\u001b[0m\n\u001b[0;32m---> 66\u001b[0;31m             \u001b[0mcusto_prox_final\u001b[0m\u001b[0;34m,\u001b[0m \u001b[0;34m*\u001b[0m\u001b[0m_\u001b[0m \u001b[0;34m=\u001b[0m \u001b[0mcam_min\u001b[0m\u001b[0;34m(\u001b[0m\u001b[0mposition_b\u001b[0m\u001b[0;34m,\u001b[0m \u001b[0mfinal\u001b[0m\u001b[0;34m,\u001b[0m \u001b[0mestagio\u001b[0m \u001b[0;34m=\u001b[0m \u001b[0mprox_estagio\u001b[0m\u001b[0;34m)\u001b[0m\u001b[0;34m\u001b[0m\u001b[0;34m\u001b[0m\u001b[0m\n\u001b[0m\u001b[1;32m     67\u001b[0m \u001b[0;34m\u001b[0m\u001b[0m\n\u001b[1;32m     68\u001b[0m             \u001b[0mcusto\u001b[0m \u001b[0;34m=\u001b[0m \u001b[0mcusto_prox_final\u001b[0m \u001b[0;34m+\u001b[0m \u001b[0mcusto_jogada\u001b[0m\u001b[0;34m\u001b[0m\u001b[0;34m\u001b[0m\u001b[0m\n",
            "\u001b[0;32m<ipython-input-207-7f809a9adf0f>\u001b[0m in \u001b[0;36mcam_min\u001b[0;34m(inicial, final, estagio, tab, registra_tabuleiros, backwards)\u001b[0m\n\u001b[1;32m     51\u001b[0m     \u001b[0;32melse\u001b[0m\u001b[0;34m:\u001b[0m\u001b[0;34m\u001b[0m\u001b[0;34m\u001b[0m\u001b[0m\n\u001b[1;32m     52\u001b[0m       \u001b[0mprox_estagio\u001b[0m \u001b[0;34m=\u001b[0m \u001b[0mestagio\u001b[0m \u001b[0;34m-\u001b[0m \u001b[0;36m1\u001b[0m\u001b[0;34m\u001b[0m\u001b[0;34m\u001b[0m\u001b[0m\n\u001b[0;32m---> 53\u001b[0;31m     \u001b[0mpossiveis_casas\u001b[0m \u001b[0;34m=\u001b[0m \u001b[0mboard_positions\u001b[0m\u001b[0;34m[\u001b[0m\u001b[0mprox_estagio\u001b[0m\u001b[0;34m]\u001b[0m\u001b[0;34m\u001b[0m\u001b[0;34m\u001b[0m\u001b[0m\n\u001b[0m\u001b[1;32m     54\u001b[0m \u001b[0;34m\u001b[0m\u001b[0m\n\u001b[1;32m     55\u001b[0m     \u001b[0;32mfor\u001b[0m \u001b[0mrow\u001b[0m\u001b[0;34m,\u001b[0m \u001b[0mcasa\u001b[0m \u001b[0;32min\u001b[0m \u001b[0menumerate\u001b[0m\u001b[0;34m(\u001b[0m\u001b[0mpossiveis_casas\u001b[0m\u001b[0;34m)\u001b[0m\u001b[0;34m:\u001b[0m\u001b[0;34m\u001b[0m\u001b[0;34m\u001b[0m\u001b[0m\n",
            "\u001b[0;32m/usr/local/lib/python3.7/dist-packages/pandas/core/frame.py\u001b[0m in \u001b[0;36m__getitem__\u001b[0;34m(self, key)\u001b[0m\n\u001b[1;32m   3456\u001b[0m             \u001b[0;32mif\u001b[0m \u001b[0mself\u001b[0m\u001b[0;34m.\u001b[0m\u001b[0mcolumns\u001b[0m\u001b[0;34m.\u001b[0m\u001b[0mnlevels\u001b[0m \u001b[0;34m>\u001b[0m \u001b[0;36m1\u001b[0m\u001b[0;34m:\u001b[0m\u001b[0;34m\u001b[0m\u001b[0;34m\u001b[0m\u001b[0m\n\u001b[1;32m   3457\u001b[0m                 \u001b[0;32mreturn\u001b[0m \u001b[0mself\u001b[0m\u001b[0;34m.\u001b[0m\u001b[0m_getitem_multilevel\u001b[0m\u001b[0;34m(\u001b[0m\u001b[0mkey\u001b[0m\u001b[0;34m)\u001b[0m\u001b[0;34m\u001b[0m\u001b[0;34m\u001b[0m\u001b[0m\n\u001b[0;32m-> 3458\u001b[0;31m             \u001b[0mindexer\u001b[0m \u001b[0;34m=\u001b[0m \u001b[0mself\u001b[0m\u001b[0;34m.\u001b[0m\u001b[0mcolumns\u001b[0m\u001b[0;34m.\u001b[0m\u001b[0mget_loc\u001b[0m\u001b[0;34m(\u001b[0m\u001b[0mkey\u001b[0m\u001b[0;34m)\u001b[0m\u001b[0;34m\u001b[0m\u001b[0;34m\u001b[0m\u001b[0m\n\u001b[0m\u001b[1;32m   3459\u001b[0m             \u001b[0;32mif\u001b[0m \u001b[0mis_integer\u001b[0m\u001b[0;34m(\u001b[0m\u001b[0mindexer\u001b[0m\u001b[0;34m)\u001b[0m\u001b[0;34m:\u001b[0m\u001b[0;34m\u001b[0m\u001b[0;34m\u001b[0m\u001b[0m\n\u001b[1;32m   3460\u001b[0m                 \u001b[0mindexer\u001b[0m \u001b[0;34m=\u001b[0m \u001b[0;34m[\u001b[0m\u001b[0mindexer\u001b[0m\u001b[0;34m]\u001b[0m\u001b[0;34m\u001b[0m\u001b[0;34m\u001b[0m\u001b[0m\n",
            "\u001b[0;32m/usr/local/lib/python3.7/dist-packages/pandas/core/indexes/range.py\u001b[0m in \u001b[0;36mget_loc\u001b[0;34m(self, key, method, tolerance)\u001b[0m\n\u001b[1;32m    385\u001b[0m                     \u001b[0;32mreturn\u001b[0m \u001b[0mself\u001b[0m\u001b[0;34m.\u001b[0m\u001b[0m_range\u001b[0m\u001b[0;34m.\u001b[0m\u001b[0mindex\u001b[0m\u001b[0;34m(\u001b[0m\u001b[0mnew_key\u001b[0m\u001b[0;34m)\u001b[0m\u001b[0;34m\u001b[0m\u001b[0;34m\u001b[0m\u001b[0m\n\u001b[1;32m    386\u001b[0m                 \u001b[0;32mexcept\u001b[0m \u001b[0mValueError\u001b[0m \u001b[0;32mas\u001b[0m \u001b[0merr\u001b[0m\u001b[0;34m:\u001b[0m\u001b[0;34m\u001b[0m\u001b[0;34m\u001b[0m\u001b[0m\n\u001b[0;32m--> 387\u001b[0;31m                     \u001b[0;32mraise\u001b[0m \u001b[0mKeyError\u001b[0m\u001b[0;34m(\u001b[0m\u001b[0mkey\u001b[0m\u001b[0;34m)\u001b[0m \u001b[0;32mfrom\u001b[0m \u001b[0merr\u001b[0m\u001b[0;34m\u001b[0m\u001b[0;34m\u001b[0m\u001b[0m\n\u001b[0m\u001b[1;32m    388\u001b[0m             \u001b[0;32mraise\u001b[0m \u001b[0mKeyError\u001b[0m\u001b[0;34m(\u001b[0m\u001b[0mkey\u001b[0m\u001b[0;34m)\u001b[0m\u001b[0;34m\u001b[0m\u001b[0;34m\u001b[0m\u001b[0m\n\u001b[1;32m    389\u001b[0m         \u001b[0;32mreturn\u001b[0m \u001b[0msuper\u001b[0m\u001b[0;34m(\u001b[0m\u001b[0;34m)\u001b[0m\u001b[0;34m.\u001b[0m\u001b[0mget_loc\u001b[0m\u001b[0;34m(\u001b[0m\u001b[0mkey\u001b[0m\u001b[0;34m,\u001b[0m \u001b[0mmethod\u001b[0m\u001b[0;34m=\u001b[0m\u001b[0mmethod\u001b[0m\u001b[0;34m,\u001b[0m \u001b[0mtolerance\u001b[0m\u001b[0;34m=\u001b[0m\u001b[0mtolerance\u001b[0m\u001b[0;34m)\u001b[0m\u001b[0;34m\u001b[0m\u001b[0;34m\u001b[0m\u001b[0m\n",
            "\u001b[0;31mKeyError\u001b[0m: 20"
          ]
        }
      ]
    }
  ]
}